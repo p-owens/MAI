{
  "nbformat": 4,
  "nbformat_minor": 0,
  "metadata": {
    "colab": {
      "name": "MAI.ipynb",
      "provenance": [],
      "collapsed_sections": []
    },
    "kernelspec": {
      "name": "python3",
      "display_name": "Python 3"
    },
    "accelerator": "GPU"
  },
  "cells": [
    {
      "cell_type": "code",
      "metadata": {
        "id": "BoKhhUAvw7Fg"
      },
      "source": [
        "! pip install -q tensorflow-model-optimization"
      ],
      "execution_count": 3,
      "outputs": []
    },
    {
      "cell_type": "code",
      "metadata": {
        "id": "aEx4VxbzFM5a",
        "colab": {
          "base_uri": "https://localhost:8080/"
        },
        "outputId": "6018ccb7-614a-4cda-c00c-1a6156380164"
      },
      "source": [
        "#allow file access\r\n",
        "from google.colab import files\r\n",
        "\r\n",
        "from tensorflow.keras.models import load_model\r\n",
        "\r\n",
        "import pickle\r\n",
        "\r\n",
        "#import shap  \r\n",
        "#import shap\r\n",
        "#shap.initjs()\r\n",
        "\r\n",
        "import pandas as pd\r\n",
        "import tensorflow as tf\r\n",
        "tf.compat.v1.disable_v2_behavior() #this was required for SHAP values\r\n",
        "from tensorflow import keras\r\n",
        "\r\n",
        "\r\n",
        "#borrowed form 5c16\r\n",
        "from keras import datasets\r\n",
        "from keras.layers import Dense, Flatten, Dropout, Activation\r\n",
        "from keras.regularizers import l2\r\n",
        "from keras.callbacks import ModelCheckpoint\r\n",
        "\r\n",
        "from keras.models import model_from_json\r\n",
        "\r\n",
        "from IPython.display import clear_output\r\n",
        "\r\n",
        "import numpy as np\r\n",
        "import matplotlib.pyplot as plt\r\n",
        "%matplotlib inline\r\n",
        "from matplotlib.ticker import MaxNLocator\r\n",
        "\r\n",
        "import pickle\r\n",
        "import sklearn as skl\r\n",
        "\r\n",
        "#r2 score\r\n",
        "from keras import backend as K\r\n",
        "from sklearn.metrics import r2_score\r\n",
        "\r\n",
        "from sklearn import datasets, linear_model\r\n",
        "from sklearn.model_selection import cross_val_score\r\n",
        "\r\n",
        "#model optimisation api\r\n",
        "import tensorflow_model_optimization as tfmot\r\n",
        "\r\n",
        "import tempfile\r\n",
        "import os"
      ],
      "execution_count": 4,
      "outputs": [
        {
          "output_type": "stream",
          "text": [
            "WARNING:tensorflow:From /usr/local/lib/python3.6/dist-packages/tensorflow/python/compat/v2_compat.py:96: disable_resource_variables (from tensorflow.python.ops.variable_scope) is deprecated and will be removed in a future version.\n",
            "Instructions for updating:\n",
            "non-resource variables are not supported in the long term\n"
          ],
          "name": "stdout"
        }
      ]
    },
    {
      "cell_type": "code",
      "metadata": {
        "id": "gUaWQfvzF40O"
      },
      "source": [
        "# Define some useful functions\r\n",
        "class PlotLossAccuracy(keras.callbacks.Callback):\r\n",
        "    def on_train_begin(self, logs={}):\r\n",
        "        self.i = 0\r\n",
        "        self.x = []\r\n",
        "        self.acc = []\r\n",
        "        self.losses = []\r\n",
        "        self.val_losses = []\r\n",
        "        self.val_acc = []\r\n",
        "        self.logs = []\r\n",
        "        \r\n",
        "\r\n",
        "    def on_epoch_end(self, epoch, logs={}):\r\n",
        "        \r\n",
        "        self.logs.append(logs)\r\n",
        "        self.x.append(int(self.i))\r\n",
        "        self.losses.append(logs.get('loss'))\r\n",
        "        self.val_losses.append(logs.get('val_loss'))\r\n",
        "        self.acc.append(logs.get('r_squared'))\r\n",
        "        self.val_acc.append(logs.get('val_r_squared'))\r\n",
        "\r\n",
        "        \r\n",
        "        \r\n",
        "        self.i += 1\r\n",
        "        \r\n",
        "        clear_output(wait=True)\r\n",
        "        plt.figure(figsize=(24, 12))\r\n",
        "        plt.plot([1, 2])\r\n",
        "        plt.subplot(121) \r\n",
        "        plt.plot(self.x, self.losses, label=\"train loss\")\r\n",
        "        plt.plot(self.x, self.val_losses, label=\"validation loss\")\r\n",
        "        plt.gca().xaxis.set_major_locator(MaxNLocator(integer=True))\r\n",
        "        plt.ylabel('MSE')\r\n",
        "        plt.xlabel('epoch')\r\n",
        "        plt.title('Mean Squared Error')\r\n",
        "        plt.legend()\r\n",
        "        plt.subplot(122)         \r\n",
        "        plt.plot(self.x, self.acc, label=\"training r-squared\")\r\n",
        "        plt.plot(self.x, self.val_acc, label=\"validation r-squared\")\r\n",
        "        plt.legend()\r\n",
        "        plt.ylabel('R-squared')\r\n",
        "        plt.xlabel('epoch')\r\n",
        "        plt.title('R-Squared Value')\r\n",
        "        \r\n",
        "        plt.gca().xaxis.set_major_locator(MaxNLocator(integer=True))\r\n",
        "        plt.show();\r\n",
        "        \r\n",
        "\r\n",
        "#creating a r^2 metric for the model evaluation\r\n",
        "def r_squared(y_true, y_pred):\r\n",
        "    SS_res =  K.sum(K.square( y_true-y_pred )) \r\n",
        "    SS_tot = K.sum(K.square( y_true - K.mean(y_true) ) ) \r\n",
        "    return ( 1 - SS_res/(SS_tot + K.epsilon()) )\r\n",
        "\r\n",
        "    "
      ],
      "execution_count": 5,
      "outputs": []
    },
    {
      "cell_type": "code",
      "metadata": {
        "id": "S1n0YwZjAbhz"
      },
      "source": [
        "ch_names = np.arange(44).tolist()\n",
        "freqs = np.arange(191.6, 195.9, 0.1).tolist()\n",
        "for x in range(len(ch_names)):\n",
        "  ch_names[x] = \"Ch %.0f (%.1f)\" % (ch_names[x], freqs[x])"
      ],
      "execution_count": 6,
      "outputs": []
    },
    {
      "cell_type": "code",
      "metadata": {
        "id": "CY7XJknsPN9f"
      },
      "source": [
        "#generate the train and testing datasets\r\n",
        "#retreiving both datasets from GitHub\r\n",
        "git_xval = 'https://raw.githubusercontent.com/p-owens/MAI/main/x_val.csv'\r\n",
        "git_yval = 'https://raw.githubusercontent.com/p-owens/MAI/main/y_val.csv'\r\n",
        "df0 = pd.read_csv(git_xval,\r\n",
        "                  index_col=False,\r\n",
        "                  header=None,\r\n",
        "                  names=ch_names)\r\n",
        "\r\n",
        "df1 = pd.read_csv(git_yval,\r\n",
        "                  index_col=False,\r\n",
        "                  header=None,\r\n",
        "                  names=ch_names)\r\n",
        "\r\n",
        "#convert to numpy\r\n",
        "x_values = df0.to_numpy()\r\n",
        "y_values = df1.to_numpy()\r\n",
        "\r\n",
        "#removing the frequency row - treating these values as labels\r\n",
        "x_values = x_values[1::2,:]\r\n",
        "\r\n",
        "val_split = .2\r\n",
        "\r\n",
        "#generate the test/validation split\r\n",
        "#x_rem, x_test, y_rem, y_test = skl.model_selection.train_test_split(x_values, y_values, test_size=.2, random_state=0)\r\n",
        "x_train, x_val, y_train, y_val = skl.model_selection.train_test_split(x_values, y_values, test_size = val_split, random_state = 0)#renaimed x_rem and y_rem to x_values and y_values"
      ],
      "execution_count": 7,
      "outputs": []
    },
    {
      "cell_type": "code",
      "metadata": {
        "colab": {
          "base_uri": "https://localhost:8080/"
        },
        "id": "1WkWK5ucepHI",
        "outputId": "c72de407-7f2d-44da-8c5e-c718b7873ec4"
      },
      "source": [
        "#create the models\r\n",
        "inputs = keras.layers.Input(shape=(44,))\r\n",
        "\r\n",
        "\r\n",
        "x = Dense(1056, activation='relu')(inputs)\r\n",
        "x = Dropout(0.45)(x) # Drop out\r\n",
        "x = Dense(1056, activation='linear')(x)\r\n",
        "x = Dropout(0.45)(x) # Drop out\r\n",
        "x = Dense(1056, activation='relu')(x)\r\n",
        "x = Dropout(0.45)(x) # Drop out random 2% to prevent overfitting\r\n",
        "x = Dense(528, activation='linear')(x)\r\n",
        "x = Dropout(0.45)(x) # Drop out\r\n",
        "predictions = Dense(44, activation='relu')(x)\r\n",
        "\r\n",
        "\r\n",
        "\r\n",
        "# we create the model \r\n",
        "model = keras.models.Model(inputs=inputs, outputs=predictions)\r\n",
        "opt = tf.keras.optimizers.Nadam(learning_rate=0.00004)\r\n",
        "\r\n",
        "# setup the optimisation strategy\r\n",
        "model.compile(optimizer=opt,\r\n",
        "              loss='mean_squared_error',\r\n",
        "              metrics=[r_squared]) #tf.keras.metrics.MeanAbsoluteError()\r\n",
        "\r\n",
        "\r\n",
        "model.summary()"
      ],
      "execution_count": 8,
      "outputs": [
        {
          "output_type": "stream",
          "text": [
            "Model: \"model\"\n",
            "_________________________________________________________________\n",
            "Layer (type)                 Output Shape              Param #   \n",
            "=================================================================\n",
            "input_1 (InputLayer)         [(None, 44)]              0         \n",
            "_________________________________________________________________\n",
            "dense (Dense)                (None, 1056)              47520     \n",
            "_________________________________________________________________\n",
            "dropout (Dropout)            (None, 1056)              0         \n",
            "_________________________________________________________________\n",
            "dense_1 (Dense)              (None, 1056)              1116192   \n",
            "_________________________________________________________________\n",
            "dropout_1 (Dropout)          (None, 1056)              0         \n",
            "_________________________________________________________________\n",
            "dense_2 (Dense)              (None, 1056)              1116192   \n",
            "_________________________________________________________________\n",
            "dropout_2 (Dropout)          (None, 1056)              0         \n",
            "_________________________________________________________________\n",
            "dense_3 (Dense)              (None, 528)               558096    \n",
            "_________________________________________________________________\n",
            "dropout_3 (Dropout)          (None, 528)               0         \n",
            "_________________________________________________________________\n",
            "dense_4 (Dense)              (None, 44)                23276     \n",
            "=================================================================\n",
            "Total params: 2,861,276\n",
            "Trainable params: 2,861,276\n",
            "Non-trainable params: 0\n",
            "_________________________________________________________________\n"
          ],
          "name": "stdout"
        }
      ]
    },
    {
      "cell_type": "code",
      "metadata": {
        "id": "WEXous-TkzsQ",
        "colab": {
          "base_uri": "https://localhost:8080/",
          "height": 571
        },
        "outputId": "f8050c66-12ca-424b-bedc-2657408c4b33"
      },
      "source": [
        "#callback for plotting the model metrics\r\n",
        "\r\n",
        "pltCallBack = PlotLossAccuracy()\r\n",
        "#callback for saving the model\r\n",
        "checkpoint = ModelCheckpoint(filepath='model_checkpoints/ep_{epoch:02d}_mse_{val_loss:.2f}_r2_{val_r_squared:.2f}.hdf5',\r\n",
        "                             monitor='val_loss',\r\n",
        "                             verbose=1,\r\n",
        "                             save_weights_only=False,\r\n",
        "                             save_best_only=True,\r\n",
        "                             mode='min',\r\n",
        "                             save_freq=\"epoch\")\r\n",
        "\r\n",
        "batchSize = 512\r\n",
        "\r\n",
        "# and train\r\n",
        "model.fit(x_train, y_train,\r\n",
        "                    batch_size=batchSize, epochs=100, \r\n",
        "                    validation_data=(x_val, y_val), \r\n",
        "                    callbacks=[pltCallBack, checkpoint])"
      ],
      "execution_count": 9,
      "outputs": [
        {
          "output_type": "display_data",
          "data": {
            "image/png": "[encoded data removed]",
            "text/plain": [
              "<Figure size 1728x864 with 2 Axes>"
            ]
          },
          "metadata": {
            "tags": [],
            "needs_background": "light"
          }
        },
        {
          "output_type": "stream",
          "text": [
            "\n",
            "Epoch 00100: val_loss did not improve from 0.30047\n",
            "\b\b\b\b\b\b\b\b\b\b\b\b\b\b\b\b\b\b\b\b\b\b\b\b\b\b\b\b\b\b\b\b\b\b\b\b\b\b\b\b\b\b\b\b\b\b\b\b\b\b\b\b\b\b\b\b\b\b\b\b\b\b\b\b\b\b\b\b\b\b\b\b\b\b\b\b\b\b\b\b\b\b\b\b\b\b\b\r9577/9577 [==============================] - 1s 53us/sample - loss: 0.7046 - r_squared: 0.9086 - val_loss: 0.3493 - val_r_squared: 0.9543\n"
          ],
          "name": "stdout"
        },
        {
          "output_type": "execute_result",
          "data": {
            "text/plain": [
              "<tensorflow.python.keras.callbacks.History at 0x7f17b396da20>"
            ]
          },
          "metadata": {
            "tags": []
          },
          "execution_count": 9
        }
      ]
    },
    {
      "cell_type": "code",
      "metadata": {
        "colab": {
          "base_uri": "https://localhost:8080/"
        },
        "id": "GgEouiYQ0iKC",
        "outputId": "edebeecd-1cba-46c0-80e6-37746944276c"
      },
      "source": [
        "_, keras_file = tempfile.mkstemp('.h5')\n",
        "tf.keras.models.save_model(model, keras_file, include_optimizer=False)\n",
        "print('Saved baseline model to:', keras_file)"
      ],
      "execution_count": 10,
      "outputs": [
        {
          "output_type": "stream",
          "text": [
            "Saved baseline model to: /tmp/tmprkcp88gd.h5\n"
          ],
          "name": "stdout"
        }
      ]
    },
    {
      "cell_type": "code",
      "metadata": {
        "id": "QRFxaHU957xi"
      },
      "source": [
        "#set the channel number here\n",
        "channel = 40"
      ],
      "execution_count": 11,
      "outputs": []
    },
    {
      "cell_type": "code",
      "metadata": {
        "id": "_Fmp93Sl8xeo"
      },
      "source": [
        "#Using a dataset with 1 ch constantly on for the test set\n",
        "#retreiving both datasets from GitHub\n",
        "\n",
        "\n",
        "\n",
        "git_xval = ('https://raw.githubusercontent.com/p-owens/MAI/main/data%20gen/ch{0}/x_val.csv'.format(channel))\n",
        "git_yval = ('https://raw.githubusercontent.com/p-owens/MAI/main/data%20gen/ch{0}/y_val.csv'.format(channel))\n",
        "dfx = pd.read_csv(git_xval,\n",
        "                  index_col=False,\n",
        "                  header=None,\n",
        "                  names=ch_names                                   \n",
        "                 )\n",
        "dfy = pd.read_csv(git_yval,\n",
        "                  index_col=False,\n",
        "                  header=None,\n",
        "                  names=ch_names\n",
        "                 )\n",
        "x_test = dfx.to_numpy()\n",
        "y_test = dfy.to_numpy()\n",
        "\n",
        "#removing the frequency row - treating these values as labels\n",
        "x_test = x_test[1::2,:]"
      ],
      "execution_count": 12,
      "outputs": []
    },
    {
      "cell_type": "code",
      "metadata": {
        "colab": {
          "base_uri": "https://localhost:8080/"
        },
        "id": "5JUeQ1eGj1ej",
        "outputId": "f34cd9eb-055f-43b5-a7d3-217379814164"
      },
      "source": [
        "#evaluate the model on the test set\n",
        "results = model.evaluate(x_test,y_test, verbose=1)\n",
        "print(\"{name1}\\t\\t: {mse:<.4f}\\t(lower is better)\\n{name2}\\t: {r2:<.2%}\\t(higher is better)\".format(name1 = model.metrics_names[0],\n",
        "                                                                                                    name2 = model.metrics_names[1],\n",
        "                                                                                                    mse = results[0],\n",
        "                                                                                                    r2 = results[1]))"
      ],
      "execution_count": 13,
      "outputs": [
        {
          "output_type": "stream",
          "text": [
            "loss\t\t: 0.3095\t(lower is better)\n",
            "r_squared\t: 95.54%\t(higher is better)\n"
          ],
          "name": "stdout"
        }
      ]
    },
    {
      "cell_type": "code",
      "metadata": {
        "colab": {
          "base_uri": "https://localhost:8080/"
        },
        "id": "qLmMzFnFeDJ6",
        "outputId": "4def3e8f-853e-4065-cccf-8a9bab124c51"
      },
      "source": [
        "#pruning the model\n",
        "\n",
        "prune_low_magnitude = tfmot.sparsity.keras.prune_low_magnitude\n",
        "\n",
        "\n",
        "batch_size = batchSize\n",
        "epochs = 250\n",
        "#validation_split = val_size # 10% of training set will be used for validation set. \n",
        "\n",
        "num_images = x_test.shape[0] * (1 - val_split)\n",
        "end_step = np.ceil(num_images / batch_size).astype(np.int32) * epochs\n",
        "\n",
        "# Define model for pruning.\n",
        "pruning_params = {\n",
        "      'pruning_schedule': tfmot.sparsity.keras.PolynomialDecay(initial_sparsity=0.50,\n",
        "                                                               final_sparsity=0.95,\n",
        "                                                               begin_step=0,\n",
        "                                                               end_step=end_step)\n",
        "}\n",
        "\n",
        "model_for_pruning = prune_low_magnitude(model, **pruning_params)\n",
        "\n",
        "# `prune_low_magnitude` requires a recompile.\n",
        "model_for_pruning.compile(optimizer = tf.keras.optimizers.Nadam(learning_rate=0.00001),\n",
        "              loss='mean_squared_error',\n",
        "              metrics=[r_squared])\n",
        "\n",
        "model_for_pruning.summary()"
      ],
      "execution_count": 14,
      "outputs": [
        {
          "output_type": "stream",
          "text": [
            "/usr/local/lib/python3.6/dist-packages/tensorflow/python/keras/engine/base_layer_v1.py:1727: UserWarning: `layer.add_variable` is deprecated and will be removed in a future version. Please use `layer.add_weight` method instead.\n",
            "  warnings.warn('`layer.add_variable` is deprecated and '\n"
          ],
          "name": "stderr"
        },
        {
          "output_type": "stream",
          "text": [
            "Model: \"model\"\n",
            "_________________________________________________________________\n",
            "Layer (type)                 Output Shape              Param #   \n",
            "=================================================================\n",
            "input_1 (InputLayer)         [(None, 44)]              0         \n",
            "_________________________________________________________________\n",
            "prune_low_magnitude_dense (P (None, 1056)              93986     \n",
            "_________________________________________________________________\n",
            "prune_low_magnitude_dropout  (None, 1056)              1         \n",
            "_________________________________________________________________\n",
            "prune_low_magnitude_dense_1  (None, 1056)              2231330   \n",
            "_________________________________________________________________\n",
            "prune_low_magnitude_dropout_ (None, 1056)              1         \n",
            "_________________________________________________________________\n",
            "prune_low_magnitude_dense_2  (None, 1056)              2231330   \n",
            "_________________________________________________________________\n",
            "prune_low_magnitude_dropout_ (None, 1056)              1         \n",
            "_________________________________________________________________\n",
            "prune_low_magnitude_dense_3  (None, 528)               1115666   \n",
            "_________________________________________________________________\n",
            "prune_low_magnitude_dropout_ (None, 528)               1         \n",
            "_________________________________________________________________\n",
            "prune_low_magnitude_dense_4  (None, 44)                46510     \n",
            "=================================================================\n",
            "Total params: 5,718,826\n",
            "Trainable params: 2,861,276\n",
            "Non-trainable params: 2,857,550\n",
            "_________________________________________________________________\n"
          ],
          "name": "stdout"
        }
      ]
    },
    {
      "cell_type": "code",
      "metadata": {
        "colab": {
          "base_uri": "https://localhost:8080/"
        },
        "id": "9T7o0qM4x1xu",
        "outputId": "cda1f2a3-28dd-46fd-8e0f-a1d95b76a688"
      },
      "source": [
        "logdir = tempfile.mkdtemp()\n",
        "\n",
        "callbacks = [\n",
        "  tfmot.sparsity.keras.UpdatePruningStep(),\n",
        "  tfmot.sparsity.keras.PruningSummaries(log_dir=logdir),\n",
        "]\n",
        "  \n",
        "model_for_pruning.fit(x_train, y_train,\n",
        "                    batch_size=batchSize,\n",
        "                    epochs=100, \n",
        "                    validation_data=(x_val, y_val), \n",
        "                    callbacks=callbacks)"
      ],
      "execution_count": 15,
      "outputs": [
        {
          "output_type": "stream",
          "text": [
            "Train on 9577 samples, validate on 2395 samples\n",
            "Epoch 1/100\n",
            "3072/9577 [========>.....................] - ETA: 1s - loss: 0.7002 - r_squared: 0.9098WARNING:tensorflow:Callback method `on_train_batch_begin` is slow compared to the batch time (batch time: 0.0131s vs `on_train_batch_begin` time: 0.0569s). Check your callbacks.\n",
            "9577/9577 [==============================] - 1s 135us/sample - loss: 0.7010 - r_squared: 0.9091 - val_loss: 0.3433 - val_r_squared: 0.9553\n"
          ],
          "name": "stdout"
        },
        {
          "output_type": "stream",
          "text": [
            "/usr/local/lib/python3.6/dist-packages/tensorflow/python/keras/engine/training.py:2325: UserWarning: `Model.state_updates` will be removed in a future version. This property should not be used in TensorFlow 2.0, as `updates` are applied automatically.\n",
            "  warnings.warn('`Model.state_updates` will be removed in a future version. '\n"
          ],
          "name": "stderr"
        },
        {
          "output_type": "stream",
          "text": [
            "Epoch 2/100\n",
            "9577/9577 [==============================] - 0s 48us/sample - loss: 1.2860 - r_squared: 0.8338 - val_loss: 0.7591 - val_r_squared: 0.9008\n",
            "Epoch 3/100\n",
            "9577/9577 [==============================] - 0s 44us/sample - loss: 1.0114 - r_squared: 0.8692 - val_loss: 0.5768 - val_r_squared: 0.9243\n",
            "Epoch 4/100\n",
            "9577/9577 [==============================] - 0s 47us/sample - loss: 0.8969 - r_squared: 0.8839 - val_loss: 0.5073 - val_r_squared: 0.9337\n",
            "Epoch 5/100\n",
            "9577/9577 [==============================] - 0s 42us/sample - loss: 0.8552 - r_squared: 0.8892 - val_loss: 0.4830 - val_r_squared: 0.9371\n",
            "Epoch 6/100\n",
            "9577/9577 [==============================] - 0s 50us/sample - loss: 0.8405 - r_squared: 0.8910 - val_loss: 0.4583 - val_r_squared: 0.9401\n",
            "Epoch 7/100\n",
            "9577/9577 [==============================] - 0s 46us/sample - loss: 4.9382 - r_squared: 0.3630 - val_loss: 3.2110 - val_r_squared: 0.5807\n",
            "Epoch 8/100\n",
            "9577/9577 [==============================] - 0s 46us/sample - loss: 4.7686 - r_squared: 0.3849 - val_loss: 3.3558 - val_r_squared: 0.5621\n",
            "Epoch 9/100\n",
            "9577/9577 [==============================] - 0s 44us/sample - loss: 4.4692 - r_squared: 0.4228 - val_loss: 3.2368 - val_r_squared: 0.5775\n",
            "Epoch 10/100\n",
            "9577/9577 [==============================] - 0s 44us/sample - loss: 4.1519 - r_squared: 0.4646 - val_loss: 3.0392 - val_r_squared: 0.6034\n",
            "Epoch 11/100\n",
            "9577/9577 [==============================] - 0s 49us/sample - loss: 3.8475 - r_squared: 0.5032 - val_loss: 2.8280 - val_r_squared: 0.6305\n",
            "Epoch 12/100\n",
            "9577/9577 [==============================] - 0s 49us/sample - loss: 6.6503 - r_squared: 0.1389 - val_loss: 5.7700 - val_r_squared: 0.2467\n",
            "Epoch 13/100\n",
            "9577/9577 [==============================] - 0s 51us/sample - loss: 6.5785 - r_squared: 0.1484 - val_loss: 5.7504 - val_r_squared: 0.2499\n",
            "Epoch 14/100\n",
            "9577/9577 [==============================] - 1s 53us/sample - loss: 6.5090 - r_squared: 0.1574 - val_loss: 5.7221 - val_r_squared: 0.2537\n",
            "Epoch 15/100\n",
            "9577/9577 [==============================] - 1s 63us/sample - loss: 6.4232 - r_squared: 0.1683 - val_loss: 5.6724 - val_r_squared: 0.2595\n",
            "Epoch 16/100\n",
            "9577/9577 [==============================] - 0s 48us/sample - loss: 6.3475 - r_squared: 0.1786 - val_loss: 5.6082 - val_r_squared: 0.2682\n",
            "Epoch 17/100\n",
            "9577/9577 [==============================] - 0s 48us/sample - loss: 6.2667 - r_squared: 0.1889 - val_loss: 5.5439 - val_r_squared: 0.2761\n",
            "Epoch 18/100\n",
            "9577/9577 [==============================] - 0s 51us/sample - loss: 6.1782 - r_squared: 0.2000 - val_loss: 5.4716 - val_r_squared: 0.2856\n",
            "Epoch 19/100\n",
            "9577/9577 [==============================] - 1s 55us/sample - loss: 6.0979 - r_squared: 0.2110 - val_loss: 5.3936 - val_r_squared: 0.2963\n",
            "Epoch 20/100\n",
            "9577/9577 [==============================] - 0s 50us/sample - loss: 6.0207 - r_squared: 0.2207 - val_loss: 5.3244 - val_r_squared: 0.3052\n",
            "Epoch 21/100\n",
            "9577/9577 [==============================] - 0s 52us/sample - loss: 5.9390 - r_squared: 0.2309 - val_loss: 5.2492 - val_r_squared: 0.3153\n",
            "Epoch 22/100\n",
            "9577/9577 [==============================] - 1s 56us/sample - loss: 5.8470 - r_squared: 0.2430 - val_loss: 5.1726 - val_r_squared: 0.3247\n",
            "Epoch 23/100\n",
            "9577/9577 [==============================] - 1s 58us/sample - loss: 5.7714 - r_squared: 0.2527 - val_loss: 5.1040 - val_r_squared: 0.3340\n",
            "Epoch 24/100\n",
            "9577/9577 [==============================] - 1s 57us/sample - loss: 5.6933 - r_squared: 0.2626 - val_loss: 5.0314 - val_r_squared: 0.3431\n",
            "Epoch 25/100\n",
            "9577/9577 [==============================] - 1s 58us/sample - loss: 5.6060 - r_squared: 0.2744 - val_loss: 4.9587 - val_r_squared: 0.3529\n",
            "Epoch 26/100\n",
            "9577/9577 [==============================] - 1s 59us/sample - loss: 5.5336 - r_squared: 0.2836 - val_loss: 4.8931 - val_r_squared: 0.3609\n",
            "Epoch 27/100\n",
            "9577/9577 [==============================] - 1s 59us/sample - loss: 5.4531 - r_squared: 0.2941 - val_loss: 4.8254 - val_r_squared: 0.3702\n",
            "Epoch 28/100\n",
            "9577/9577 [==============================] - 1s 60us/sample - loss: 5.3927 - r_squared: 0.3020 - val_loss: 4.7615 - val_r_squared: 0.3780\n",
            "Epoch 29/100\n",
            "9577/9577 [==============================] - 1s 55us/sample - loss: 5.3200 - r_squared: 0.3114 - val_loss: 4.7006 - val_r_squared: 0.3851\n",
            "Epoch 30/100\n",
            "9577/9577 [==============================] - 1s 56us/sample - loss: 5.2434 - r_squared: 0.3213 - val_loss: 4.6401 - val_r_squared: 0.3948\n",
            "Epoch 31/100\n",
            "9577/9577 [==============================] - 1s 57us/sample - loss: 5.1836 - r_squared: 0.3291 - val_loss: 4.5808 - val_r_squared: 0.4023\n",
            "Epoch 32/100\n",
            "9577/9577 [==============================] - 1s 59us/sample - loss: 5.1104 - r_squared: 0.3386 - val_loss: 4.5248 - val_r_squared: 0.4100\n",
            "Epoch 33/100\n",
            "9577/9577 [==============================] - 1s 65us/sample - loss: 5.0330 - r_squared: 0.3483 - val_loss: 4.4762 - val_r_squared: 0.4160\n",
            "Epoch 34/100\n",
            "9577/9577 [==============================] - 1s 65us/sample - loss: 4.9800 - r_squared: 0.3550 - val_loss: 4.4231 - val_r_squared: 0.4229\n",
            "Epoch 35/100\n",
            "9577/9577 [==============================] - 1s 65us/sample - loss: 4.9137 - r_squared: 0.3639 - val_loss: 4.3728 - val_r_squared: 0.4293\n",
            "Epoch 36/100\n",
            "9577/9577 [==============================] - 1s 67us/sample - loss: 4.8558 - r_squared: 0.3708 - val_loss: 4.3292 - val_r_squared: 0.4347\n",
            "Epoch 37/100\n",
            "9577/9577 [==============================] - 1s 65us/sample - loss: 4.7983 - r_squared: 0.3785 - val_loss: 4.2827 - val_r_squared: 0.4409\n",
            "Epoch 38/100\n",
            "9577/9577 [==============================] - 1s 61us/sample - loss: 4.7476 - r_squared: 0.3852 - val_loss: 4.2405 - val_r_squared: 0.4469\n",
            "Epoch 39/100\n",
            "9577/9577 [==============================] - 1s 68us/sample - loss: 4.6852 - r_squared: 0.3933 - val_loss: 4.1996 - val_r_squared: 0.4518\n",
            "Epoch 40/100\n",
            "9577/9577 [==============================] - 1s 68us/sample - loss: 4.6458 - r_squared: 0.3987 - val_loss: 4.1617 - val_r_squared: 0.4568\n",
            "Epoch 41/100\n",
            "9577/9577 [==============================] - 1s 71us/sample - loss: 4.5923 - r_squared: 0.4047 - val_loss: 4.1243 - val_r_squared: 0.4614\n",
            "Epoch 42/100\n",
            "9577/9577 [==============================] - 1s 65us/sample - loss: 4.5429 - r_squared: 0.4112 - val_loss: 4.0884 - val_r_squared: 0.4667\n",
            "Epoch 43/100\n",
            "9577/9577 [==============================] - 1s 67us/sample - loss: 4.4994 - r_squared: 0.4170 - val_loss: 4.0570 - val_r_squared: 0.4709\n",
            "Epoch 44/100\n",
            "9577/9577 [==============================] - 1s 66us/sample - loss: 4.4555 - r_squared: 0.4230 - val_loss: 4.0245 - val_r_squared: 0.4747\n",
            "Epoch 45/100\n",
            "9577/9577 [==============================] - 1s 68us/sample - loss: 4.4136 - r_squared: 0.4284 - val_loss: 3.9927 - val_r_squared: 0.4782\n",
            "Epoch 46/100\n",
            "9577/9577 [==============================] - 1s 66us/sample - loss: 4.3755 - r_squared: 0.4333 - val_loss: 3.9656 - val_r_squared: 0.4828\n",
            "Epoch 47/100\n",
            "9577/9577 [==============================] - 1s 69us/sample - loss: 4.3271 - r_squared: 0.4397 - val_loss: 3.9365 - val_r_squared: 0.4859\n",
            "Epoch 48/100\n",
            "9577/9577 [==============================] - 1s 67us/sample - loss: 4.2950 - r_squared: 0.4439 - val_loss: 3.9085 - val_r_squared: 0.4888\n",
            "Epoch 49/100\n",
            "9577/9577 [==============================] - 1s 69us/sample - loss: 4.2626 - r_squared: 0.4480 - val_loss: 3.8837 - val_r_squared: 0.4934\n",
            "Epoch 50/100\n",
            "9577/9577 [==============================] - 1s 67us/sample - loss: 4.2295 - r_squared: 0.4521 - val_loss: 3.8595 - val_r_squared: 0.4976\n",
            "Epoch 51/100\n",
            "9577/9577 [==============================] - 1s 72us/sample - loss: 4.1900 - r_squared: 0.4574 - val_loss: 3.8352 - val_r_squared: 0.5004\n",
            "Epoch 52/100\n",
            "9577/9577 [==============================] - 1s 72us/sample - loss: 4.1678 - r_squared: 0.4600 - val_loss: 3.8112 - val_r_squared: 0.5011\n",
            "Epoch 53/100\n",
            "9577/9577 [==============================] - 1s 69us/sample - loss: 4.1358 - r_squared: 0.4643 - val_loss: 3.7905 - val_r_squared: 0.5062\n",
            "Epoch 54/100\n",
            "9577/9577 [==============================] - 1s 72us/sample - loss: 4.1036 - r_squared: 0.4685 - val_loss: 3.7696 - val_r_squared: 0.5086\n",
            "Epoch 55/100\n",
            "9577/9577 [==============================] - 1s 71us/sample - loss: 4.0793 - r_squared: 0.4716 - val_loss: 3.7480 - val_r_squared: 0.5111\n",
            "Epoch 56/100\n",
            "9577/9577 [==============================] - 1s 77us/sample - loss: 4.0413 - r_squared: 0.4762 - val_loss: 3.7285 - val_r_squared: 0.5136\n",
            "Epoch 57/100\n",
            "9577/9577 [==============================] - 1s 74us/sample - loss: 4.0257 - r_squared: 0.4783 - val_loss: 3.7077 - val_r_squared: 0.5169\n",
            "Epoch 58/100\n",
            "9577/9577 [==============================] - 1s 80us/sample - loss: 4.0072 - r_squared: 0.4808 - val_loss: 3.6884 - val_r_squared: 0.5184\n",
            "Epoch 59/100\n",
            "9577/9577 [==============================] - 1s 79us/sample - loss: 3.9800 - r_squared: 0.4843 - val_loss: 3.6695 - val_r_squared: 0.5209\n",
            "Epoch 60/100\n",
            "9577/9577 [==============================] - 1s 81us/sample - loss: 3.9567 - r_squared: 0.4875 - val_loss: 3.6499 - val_r_squared: 0.5227\n",
            "Epoch 61/100\n",
            "9577/9577 [==============================] - 1s 82us/sample - loss: 3.9374 - r_squared: 0.4899 - val_loss: 3.6306 - val_r_squared: 0.5267\n",
            "Epoch 62/100\n",
            "9577/9577 [==============================] - 1s 83us/sample - loss: 3.9097 - r_squared: 0.4936 - val_loss: 3.6126 - val_r_squared: 0.5273\n",
            "Epoch 63/100\n",
            "9577/9577 [==============================] - 1s 78us/sample - loss: 3.8907 - r_squared: 0.4958 - val_loss: 3.5955 - val_r_squared: 0.5311\n",
            "Epoch 64/100\n",
            "9577/9577 [==============================] - 1s 78us/sample - loss: 3.8700 - r_squared: 0.4989 - val_loss: 3.5762 - val_r_squared: 0.5328\n",
            "Epoch 65/100\n",
            "9577/9577 [==============================] - 1s 81us/sample - loss: 3.8496 - r_squared: 0.5013 - val_loss: 3.5591 - val_r_squared: 0.5359\n",
            "Epoch 66/100\n",
            "9577/9577 [==============================] - 1s 79us/sample - loss: 3.8271 - r_squared: 0.5040 - val_loss: 3.5425 - val_r_squared: 0.5367\n",
            "Epoch 67/100\n",
            "9577/9577 [==============================] - 1s 80us/sample - loss: 3.8111 - r_squared: 0.5061 - val_loss: 3.5255 - val_r_squared: 0.5398\n",
            "Epoch 68/100\n",
            "9577/9577 [==============================] - 1s 82us/sample - loss: 3.7878 - r_squared: 0.5093 - val_loss: 3.5081 - val_r_squared: 0.5434\n",
            "Epoch 69/100\n",
            "9577/9577 [==============================] - 1s 84us/sample - loss: 3.7687 - r_squared: 0.5119 - val_loss: 3.4904 - val_r_squared: 0.5450\n",
            "Epoch 70/100\n",
            "9577/9577 [==============================] - 1s 93us/sample - loss: 3.7464 - r_squared: 0.5140 - val_loss: 3.4742 - val_r_squared: 0.5464\n",
            "Epoch 71/100\n",
            "9577/9577 [==============================] - 1s 85us/sample - loss: 3.7396 - r_squared: 0.5157 - val_loss: 3.4571 - val_r_squared: 0.5480\n",
            "Epoch 72/100\n",
            "9577/9577 [==============================] - 1s 90us/sample - loss: 3.7094 - r_squared: 0.5194 - val_loss: 3.4400 - val_r_squared: 0.5507\n",
            "Epoch 73/100\n",
            "9577/9577 [==============================] - 1s 88us/sample - loss: 3.6947 - r_squared: 0.5213 - val_loss: 3.4242 - val_r_squared: 0.5524\n",
            "Epoch 74/100\n",
            "9577/9577 [==============================] - 1s 91us/sample - loss: 3.6784 - r_squared: 0.5234 - val_loss: 3.4068 - val_r_squared: 0.5569\n",
            "Epoch 75/100\n",
            "9577/9577 [==============================] - 1s 95us/sample - loss: 3.6520 - r_squared: 0.5268 - val_loss: 3.3899 - val_r_squared: 0.5569\n",
            "Epoch 76/100\n",
            "9577/9577 [==============================] - 1s 92us/sample - loss: 3.6381 - r_squared: 0.5289 - val_loss: 3.3734 - val_r_squared: 0.5587\n",
            "Epoch 77/100\n",
            "9577/9577 [==============================] - 1s 92us/sample - loss: 3.6263 - r_squared: 0.5302 - val_loss: 3.3562 - val_r_squared: 0.5614\n",
            "Epoch 78/100\n",
            "9577/9577 [==============================] - 1s 92us/sample - loss: 3.6143 - r_squared: 0.5317 - val_loss: 3.3389 - val_r_squared: 0.5638\n",
            "Epoch 79/100\n",
            "9577/9577 [==============================] - 1s 91us/sample - loss: 3.5877 - r_squared: 0.5351 - val_loss: 3.3234 - val_r_squared: 0.5649\n",
            "Epoch 80/100\n",
            "9577/9577 [==============================] - 1s 89us/sample - loss: 3.5759 - r_squared: 0.5367 - val_loss: 3.3067 - val_r_squared: 0.5681\n",
            "Epoch 81/100\n",
            "9577/9577 [==============================] - 1s 93us/sample - loss: 3.5559 - r_squared: 0.5390 - val_loss: 3.2908 - val_r_squared: 0.5702\n",
            "Epoch 82/100\n",
            "9577/9577 [==============================] - 1s 96us/sample - loss: 3.5433 - r_squared: 0.5409 - val_loss: 3.2738 - val_r_squared: 0.5710\n",
            "Epoch 83/100\n",
            "9577/9577 [==============================] - 1s 96us/sample - loss: 3.5260 - r_squared: 0.5428 - val_loss: 3.2567 - val_r_squared: 0.5754\n",
            "Epoch 84/100\n",
            "9577/9577 [==============================] - 1s 93us/sample - loss: 3.5123 - r_squared: 0.5443 - val_loss: 3.2408 - val_r_squared: 0.5773\n",
            "Epoch 85/100\n",
            "9577/9577 [==============================] - 1s 99us/sample - loss: 3.4927 - r_squared: 0.5474 - val_loss: 3.2241 - val_r_squared: 0.5774\n",
            "Epoch 86/100\n",
            "9577/9577 [==============================] - 1s 93us/sample - loss: 3.4776 - r_squared: 0.5494 - val_loss: 3.2074 - val_r_squared: 0.5818\n",
            "Epoch 87/100\n",
            "9577/9577 [==============================] - 1s 98us/sample - loss: 3.4612 - r_squared: 0.5512 - val_loss: 3.1907 - val_r_squared: 0.5841\n",
            "Epoch 88/100\n",
            "9577/9577 [==============================] - 1s 95us/sample - loss: 3.4411 - r_squared: 0.5538 - val_loss: 3.1737 - val_r_squared: 0.5857\n",
            "Epoch 89/100\n",
            "9577/9577 [==============================] - 1s 100us/sample - loss: 3.4198 - r_squared: 0.5566 - val_loss: 3.1586 - val_r_squared: 0.5888\n",
            "Epoch 90/100\n",
            "9577/9577 [==============================] - 1s 102us/sample - loss: 3.4080 - r_squared: 0.5585 - val_loss: 3.1417 - val_r_squared: 0.5892\n",
            "Epoch 91/100\n",
            "9577/9577 [==============================] - 1s 102us/sample - loss: 3.3896 - r_squared: 0.5608 - val_loss: 3.1247 - val_r_squared: 0.5934\n",
            "Epoch 92/100\n",
            "9577/9577 [==============================] - 1s 97us/sample - loss: 3.3796 - r_squared: 0.5618 - val_loss: 3.1089 - val_r_squared: 0.5951\n",
            "Epoch 93/100\n",
            "9577/9577 [==============================] - 1s 107us/sample - loss: 3.3543 - r_squared: 0.5649 - val_loss: 3.0918 - val_r_squared: 0.5958\n",
            "Epoch 94/100\n",
            "9577/9577 [==============================] - 1s 110us/sample - loss: 3.3417 - r_squared: 0.5666 - val_loss: 3.0764 - val_r_squared: 0.5982\n",
            "Epoch 95/100\n",
            "9577/9577 [==============================] - 1s 101us/sample - loss: 3.3279 - r_squared: 0.5688 - val_loss: 3.0595 - val_r_squared: 0.6010\n",
            "Epoch 96/100\n",
            "9577/9577 [==============================] - 1s 107us/sample - loss: 3.3185 - r_squared: 0.5698 - val_loss: 3.0430 - val_r_squared: 0.6036\n",
            "Epoch 97/100\n",
            "9577/9577 [==============================] - 1s 107us/sample - loss: 3.2922 - r_squared: 0.5735 - val_loss: 3.0278 - val_r_squared: 0.6039\n",
            "Epoch 98/100\n",
            "9577/9577 [==============================] - 1s 105us/sample - loss: 3.2802 - r_squared: 0.5749 - val_loss: 3.0107 - val_r_squared: 0.6063\n",
            "Epoch 99/100\n",
            "9577/9577 [==============================] - 1s 111us/sample - loss: 3.2552 - r_squared: 0.5781 - val_loss: 2.9944 - val_r_squared: 0.6093\n",
            "Epoch 100/100\n",
            "9577/9577 [==============================] - 1s 109us/sample - loss: 3.2497 - r_squared: 0.5787 - val_loss: 2.9779 - val_r_squared: 0.6114\n"
          ],
          "name": "stdout"
        },
        {
          "output_type": "execute_result",
          "data": {
            "text/plain": [
              "<tensorflow.python.keras.callbacks.History at 0x7f173e7c3860>"
            ]
          },
          "metadata": {
            "tags": []
          },
          "execution_count": 15
        }
      ]
    },
    {
      "cell_type": "code",
      "metadata": {
        "colab": {
          "base_uri": "https://localhost:8080/"
        },
        "id": "KrvgSM2Yx2gM",
        "outputId": "4aae5ca1-d4a9-4487-d14a-534ea5b9c092"
      },
      "source": [
        "#Compare pruned model v unpruned model\n",
        "\n",
        "results_pruned = model_for_pruning.evaluate(x_test,y_test, verbose=1)\n",
        "print(\"{name1}\\t\\t: {mse:<.4f}\\t(lower is better)\\n{name2}\\t: {r2:<.2%}\\t(higher is better)\".format(name1 = model.metrics_names[0],\n",
        "                                                                                                    name2 = model.metrics_names[1],\n",
        "                                                                                                    mse = results[0],\n",
        "                                                                                                    r2 = results[1]))\n",
        "\n",
        "print(\"{namep1}\\t\\t: {pmse:<.4f}\\t(lower is better)\\n{namep2}\\t: {pr2:<.2%}\\t(higher is better)\".format(namep1 = model_for_pruning.metrics_names[0],\n",
        "                                                                                                    namep2 = model_for_pruning.metrics_names[1],\n",
        "                                                                                                    pmse = results_pruned[0],\n",
        "                                                                                                    pr2 = results_pruned[1]))"
      ],
      "execution_count": 16,
      "outputs": [
        {
          "output_type": "stream",
          "text": [
            "loss\t\t: 0.3095\t(lower is better)\n",
            "r_squared\t: 95.54%\t(higher is better)\n",
            "loss\t\t: 3.9422\t(lower is better)\n",
            "r_squared\t: 43.03%\t(higher is better)\n"
          ],
          "name": "stdout"
        }
      ]
    },
    {
      "cell_type": "code",
      "metadata": {
        "id": "LdLm4hVYc1wx"
      },
      "source": [
        "%load_ext tensorboard\n",
        "#docs_infra: no_execute\n",
        "%tensorboard --logdir={logdir}"
      ],
      "execution_count": null,
      "outputs": []
    },
    {
      "cell_type": "code",
      "metadata": {
        "colab": {
          "base_uri": "https://localhost:8080/"
        },
        "id": "Mh9rqNbv6Sb1",
        "outputId": "2720d84e-8ca1-4729-8c3b-11095b3f6b18"
      },
      "source": [
        "model_for_export = tfmot.sparsity.keras.strip_pruning(model_for_pruning)\n",
        "\n",
        "_, pruned_keras_file = tempfile.mkstemp('.h5')\n",
        "tf.keras.models.save_model(model_for_export, pruned_keras_file, include_optimizer=False)\n",
        "print('Saved pruned Keras model to:', pruned_keras_file)"
      ],
      "execution_count": 19,
      "outputs": [
        {
          "output_type": "stream",
          "text": [
            "Saved pruned Keras model to: /tmp/tmpr7io73q8.h5\n"
          ],
          "name": "stdout"
        }
      ]
    },
    {
      "cell_type": "code",
      "metadata": {
        "id": "-E7DXEgUrCDZ"
      },
      "source": [
        "def get_gzipped_model_size(file):\n",
        "  # Returns size of gzipped model, in bytes.\n",
        "  import os\n",
        "  import zipfile\n",
        "\n",
        "  _, zipped_file = tempfile.mkstemp('.zip')\n",
        "  with zipfile.ZipFile(zipped_file, 'w', compression=zipfile.ZIP_DEFLATED) as f:\n",
        "    f.write(file)\n",
        "\n",
        "  return os.path.getsize(zipped_file)"
      ],
      "execution_count": 21,
      "outputs": []
    },
    {
      "cell_type": "code",
      "metadata": {
        "id": "HzSXC_nxuqJX",
        "colab": {
          "base_uri": "https://localhost:8080/"
        },
        "outputId": "e8076592-08a7-4057-ccbe-4ddb4ed58b24"
      },
      "source": [
        "orig = get_gzipped_model_size(keras_file)\n",
        "reduced = get_gzipped_model_size(pruned_keras_file)\n",
        "\n",
        "print(\"Size of gzipped baseline Keras model: {:,d} bytes\".format(orig))\n",
        "print(\"Size of gzipped pruned Keras model: {:,d} bytes\".format(reduced))\n",
        "print(\"Compression: {:.4%}\".format(1 - reduced/orig)) \n"
      ],
      "execution_count": 28,
      "outputs": [
        {
          "output_type": "stream",
          "text": [
            "Size of gzipped baseline Keras model: 10,594,001 bytes\n",
            "Size of gzipped pruned Keras model: 1,526,555 bytes\n",
            "Compression: 85.5904%\n"
          ],
          "name": "stdout"
        }
      ]
    }
  ]
}