{
 "metadata": {
  "language_info": {
   "codemirror_mode": {
    "name": "ipython",
    "version": 3
   },
   "file_extension": ".py",
   "mimetype": "text/x-python",
   "name": "python",
   "nbconvert_exporter": "python",
   "pygments_lexer": "ipython3",
   "version": "3.6.12-final"
  },
  "orig_nbformat": 2,
  "kernelspec": {
   "name": "python3",
   "display_name": "Python 3.6.12 64-bit ('MAI': conda)",
   "metadata": {
    "interpreter": {
     "hash": "a4249f8866311b440e9e98cc05ffde0aea60cb43009b8218deea9bea0086f249"
    }
   }
  }
 },
 "nbformat": 4,
 "nbformat_minor": 2,
 "cells": [
  {
   "cell_type": "code",
   "execution_count": 1,
   "metadata": {},
   "outputs": [
    {
     "output_type": "stream",
     "name": "stderr",
     "text": [
      "Using TensorFlow backend.\n",
      "Hello World\n"
     ]
    }
   ],
   "source": [
    "import keras\n",
    "import tensorflow   as tf\n",
    "import pandas as pd\n",
    "\n",
    "print(\"Hello World\")"
   ]
  },
  {
   "cell_type": "code",
   "execution_count": 5,
   "metadata": {},
   "outputs": [],
   "source": [
    "pd_shap = pd.read_csv('all_mean_shap.csv', \n",
    "                        header=0,\n",
    "                        index_col= 0)\n",
    "pd.t"
   ]
  }
 ]
}