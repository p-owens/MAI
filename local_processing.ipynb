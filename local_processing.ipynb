{
  "nbformat": 4,
  "nbformat_minor": 0,
  "metadata": {
    "language_info": {
      "codemirror_mode": {
        "name": "ipython",
        "version": 3
      },
      "file_extension": ".py",
      "mimetype": "text/x-python",
      "name": "python",
      "nbconvert_exporter": "python",
      "pygments_lexer": "ipython3",
      "version": "3.6.12-final"
    },
    "orig_nbformat": 2,
    "kernelspec": {
      "name": "python3",
      "display_name": "Python 3.6.12 64-bit ('MAI': conda)",
      "metadata": {
        "interpreter": {
          "hash": "a4249f8866311b440e9e98cc05ffde0aea60cb43009b8218deea9bea0086f249"
        }
      }
    },
    "colab": {
      "name": "local_processing.ipynb",
      "provenance": []
    }
  },
  "cells": [
    {
      "cell_type": "code",
      "metadata": {
        "id": "msODXEJYDsh0"
      },
      "source": [
        "import keras\n",
        "import tensorflow as tf\n",
        "import pandas as pd\n",
        "import matplotlib.pyplot as plt\n",
        "import numpy"
      ],
      "execution_count": 4,
      "outputs": []
    },
    {
      "cell_type": "code",
      "metadata": {
        "id": "uJqzzL--Dsh4"
      },
      "source": [
        "#load the csv file and convert to np.array\n",
        "pd_shap = pd.read_csv('all_mean_shap.csv',\n",
        "                      header=0,\n",
        "                      index_col=0)\n",
        "\n",
        "all_shap = pd.DataFrame.to_numpy(pd_shap)\n",
        "\n",
        "#drop cols that contain all 0's\n",
        "sum_rows = np.sum(all_shap[:,1:], axis=1)\n",
        "used_cols = np.where(sum_rows != 0)[0]\n",
        "\n",
        "all_shap = all_shap[used_cols]\n",
        "print(pd.DataFrame(all_shap))"
      ],
      "execution_count": 2,
      "outputs": [
        {
          "output_type": "stream",
          "name": "stdout",
          "text": [
            "          0         1         2         3         4         5         6   \\\n0   0.653970  0.000000  0.017201  0.018608  0.017983  0.017036  0.018017   \n1   0.835648  0.022874  0.023482  0.025749  0.000000  0.024165  0.026657   \n2   0.941884  0.022320  0.024071  0.025893  0.026208  0.024458  0.000000   \n3   1.037036  0.029820  0.031283  0.037455  0.033922  0.025323  0.043887   \n4   1.019978  0.029450  0.031814  0.030267  0.037193  0.034435  0.037903   \n5   0.988178  0.025178  0.026475  0.030184  0.027311  0.025581  0.033235   \n6   0.934631  0.024552  0.026269  0.027940  0.026407  0.025390  0.029133   \n7   0.917180  0.023460  0.024512  0.025961  0.025489  0.024297  0.024348   \n8   0.870680  0.022470  0.024076  0.025804  0.024999  0.022669  0.026729   \n9   0.910949  0.025772  0.026223  0.029460  0.027859  0.023225  0.028829   \n10  0.997148  0.027474  0.029125  0.030863  0.029431  0.029907  0.030662   \n11  1.155821  0.016056  0.006684  0.015513  0.004389  0.009168  0.020079   \n12  1.162988  0.016574  0.016927  0.007771  0.011986  0.029956  0.005284   \n13  1.140554  0.014619  0.011634  0.008971  0.023895  0.024001  0.013956   \n14  1.117737  0.012151  0.014148  0.010004  0.010415  0.015902  0.007399   \n15  1.018931  0.026184  0.028435  0.030869  0.036527  0.041907  0.033140   \n16  1.015086  0.026864  0.027624  0.030817  0.028907  0.021132  0.025845   \n17  1.307880  0.016939  0.019125  0.007160  0.010590  0.016570  0.005187   \n18  2.741172  0.026738  0.020858  0.013618  0.011768  0.019460  0.018407   \n19  4.798249  0.035140  0.026968  0.023585  0.045899  0.038222  0.024050   \n20  7.619250  0.016992  0.012818  0.010993  0.014089  0.009440  0.012867   \n\n          7         8         9   ...        35        36        37        38  \\\n0   0.018668  0.021744  0.011845  ...  0.008243  0.011875  0.012336  0.007269   \n1   0.028333  0.031731  0.015584  ...  0.004960  0.011043  0.013275  0.011187   \n2   0.026990  0.041688  0.014729  ...  0.023634  0.004419  0.013738  0.040300   \n3   0.029451  0.000000  0.012194  ...  0.058381  0.041386  0.037488  0.018376   \n4   0.043233  0.050525  0.009201  ...  0.006188  0.053729  0.021003  0.035911   \n5   0.025327  0.044765  0.025837  ...  0.009319  0.007472  0.056520  0.013034   \n6   0.027155  0.039871  0.010990  ...  0.016589  0.013740  0.014104  0.007061   \n7   0.029273  0.029718  0.016123  ...  0.005564  0.012839  0.023291  0.010341   \n8   0.026040  0.029649  0.025656  ...  0.012521  0.003897  0.003645  0.005763   \n9   0.026418  0.037073  0.023059  ...  0.009305  0.013183  0.017487  0.016045   \n10  0.032205  0.035889  0.017107  ...  0.005563  0.028379  0.007871  0.012461   \n11  0.004267  0.028380  0.088317  ...  0.022712  0.039935  0.008869  0.016894   \n12  0.005382  0.018122  0.026808  ...  0.009750  0.009583  0.013680  0.008748   \n13  0.015795  0.013898  0.047554  ...  0.013007  0.011149  0.017837  0.014667   \n14  0.028806  0.026488  0.076811  ...  0.015888  0.023013  0.015715  0.018199   \n15  0.059251  0.011660  0.035586  ...  0.022438  0.045758  0.014707  0.037395   \n16  0.032229  0.026265  0.051028  ...  0.143979  0.006724  0.033574  0.007691   \n17  0.008389  0.026917  0.031830  ...  0.012772  0.000000  0.014243  0.010194   \n18  0.046802  0.009019  0.041592  ...  0.015939  0.022648  0.011668  0.029621   \n19  0.029057  0.023013  0.037703  ...  0.028571  0.026579  0.033358  0.055660   \n20  0.011625  0.023534  0.026937  ...  0.054543  0.025768  0.025423  0.066650   \n\n          39        40        41        42        43        44  \n0   0.017837  0.007053  0.008862  0.012076  0.025130  0.020381  \n1   0.012067  0.020964  0.011104  0.017486  0.028548  0.050421  \n2   0.006368  0.022704  0.012619  0.014389  0.013325  0.029205  \n3   0.022344  0.027315  0.029550  0.020548  0.032618  0.044983  \n4   0.031292  0.009509  0.016507  0.027859  0.043442  0.043843  \n5   0.029630  0.011658  0.016213  0.030429  0.020724  0.038184  \n6   0.028150  0.010859  0.027316  0.016924  0.027739  0.039473  \n7   0.012439  0.010082  0.026162  0.024933  0.043245  0.041986  \n8   0.007578  0.041351  0.034289  0.021515  0.035603  0.022565  \n9   0.008597  0.009061  0.020222  0.034304  0.028489  0.052520  \n10  0.029710  0.032863  0.032525  0.012552  0.028375  0.053255  \n11  0.018404  0.016298  0.034754  0.041693  0.057236  0.079735  \n12  0.019927  0.014878  0.035900  0.036107  0.054267  0.088102  \n13  0.021886  0.009980  0.030186  0.036524  0.058702  0.071193  \n14  0.015295  0.018587  0.031124  0.035465  0.065685  0.083536  \n15  0.022501  0.033762  0.036693  0.035618  0.035450  0.072804  \n16  0.012780  0.015193  0.034070  0.025625  0.060476  0.062793  \n17  0.016926  0.018945  0.029567  0.037622  0.061736  0.061713  \n18  0.000000  0.045299  0.059162  0.089374  0.096263  0.164921  \n19  0.052084  0.038197  0.000000  0.156026  0.189602  0.341754  \n20  0.053952  0.081037  0.122339  0.092132  0.241708  0.000000  \n\n[21 rows x 45 columns]\n"
          ]
        }
      ]
    },
    {
      "cell_type": "code",
      "execution_count": 11,
      "metadata": {},
      "outputs": [
        {
          "output_type": "stream",
          "name": "stdout",
          "text": [
            "[0.46162635 0.46975065 0.46748427 0.47526685 0.50224348 0.46561413\n 0.55469409 0.56994799 0.64648936 0.60338978 0.69307972 0.54309828\n 0.55757013 0.4495083  0.47341162 0.45099001 0.48999631 0.48119001\n 0.47262998 0.46179118 0.54663506 0.51028864 0.6465552  0.70309275\n 0.42480051 0.47822539 0.54930735 0.55024247 0.63182321 0.63110312\n 0.51856553 0.66842079 0.53158939 0.66818609 0.49986761 0.41311963\n 0.40983248 0.44346649 0.43976759 0.49559591 0.64916228 0.81919895\n 1.24836433 1.46336708]\n"
          ]
        }
      ],
      "source": [
        "#this is the sum of the shap values for all channels\n",
        "per_ch_impact = np.sum(all_shap[:,1:], axis=0)\n",
        "print(per_ch_impact)"
      ]
    },
    {
      "cell_type": "code",
      "execution_count": 9,
      "metadata": {},
      "outputs": [
        {
          "output_type": "stream",
          "name": "stdout",
          "text": [
            "[ 1.24653054  1.36700768  1.49669954  1.61967888  1.73556052  1.83728556\n  1.92702899  1.98854878  2.00758367  2.01238523  1.98101125  1.93378096\n  1.87160556  1.80615541  1.75144567  1.70526892  1.67956266  1.6765472\n  1.70477946  1.76059546  1.84398988  1.94788834  2.06756335  2.17912861\n  2.26998065  2.32360772  2.32674369  2.28518213  2.1964606   2.10136486\n  2.01232116  1.95330833  1.94414556  2.02147669  2.21839849  2.56661035\n  3.14561018  4.01079317  5.24052979  6.94440795  9.06880436 11.38715383\n 13.46618815 14.8649651 ]\n"
          ]
        }
      ],
      "source": [
        "raw_vals = pd.read_csv('y_val.csv',\n",
        "                      header=None,\n",
        "                      index_col=None)\n",
        "\n",
        "raw_np = pd.DataFrame.to_numpy(raw_vals)\n",
        "sum_ch = np.sum(raw_np, axis= 0)\n",
        "denom = numpy.count_nonzero(raw_np, axis= 0)\n",
        "avg_col_val = sum_ch/denom\n",
        "print(avg_col_val)\n"
      ]
    },
    {
      "cell_type": "code",
      "metadata": {
        "id": "msSn_qfpLPQR"
      },
      "source": [
        "ch_names = np.arange(44).tolist()\n",
        "freqs = np.arange(191.6, 195.9, 0.1).tolist()\n",
        "for x in range(len(ch_names)):\n",
        "  ch_names[x] = \"Ch %.0f (%.1f)\" % (ch_names[x], freqs[x])"
      ],
      "execution_count": 5,
      "outputs": []
    },
    {
      "cell_type": "code",
      "metadata": {
        "id": "9ZYqijqCT8un",
        "outputId": "f0f98432-1f1b-4f90-e02e-53f7a2e10b41",
        "colab": {
          "base_uri": "https://localhost:8080/"
        }
      },
      "source": [
        "np.argsort(shap_chnls, axis=0)[0,-10:] \n",
        "\n",
        "temp = np.argpartition(-shap_chnls, 10)\n",
        "result_args = temp[:,:10]\n",
        "#print(result_args)\n",
        "\n",
        "count = np.bincount(result_args.flatten())\n",
        "print(count)\n",
        "#np.unique(result_args)"
      ],
      "execution_count": 6,
      "outputs": [
        {
          "output_type": "stream",
          "name": "stdout",
          "text": [
            "[ 0  0  0  0  2  2  5 11  7 11  9  4  7  3  3  0  2  2  1  1  8  6  8  6\n  3 26 27 27 27 29 30 30 29 30 26  3  1  4  1  3  6  7 14 19]\n"
          ]
        }
      ]
    },
    {
      "cell_type": "code",
      "metadata": {
        "id": "Vzpfh4EiLieR",
        "outputId": "48a962d3-774b-4903-aaf9-6c6f2883c3de",
        "colab": {
          "base_uri": "https://localhost:8080/",
          "height": 282
        }
      },
      "source": [
        "y_pos = np.arange(len(ch_names))\n",
        "\n",
        "ch = 0\n",
        "plt.bar(y_pos, np.sum(shap_chnls, axis=0), align='center', alpha=0.5)\n",
        "\n",
        "#ch = 1\n",
        "#plt.bar(y_pos, shap_chnls[ch], align='center', alpha=0.5)\n",
        "\n",
        "\n"
      ],
      "execution_count": 7,
      "outputs": [
        {
          "output_type": "execute_result",
          "data": {
            "text/plain": [
              "<BarContainer object of 44 artists>"
            ]
          },
          "metadata": {},
          "execution_count": 7
        },
        {
          "output_type": "display_data",
          "data": {
            "text/plain": "<Figure size 432x288 with 1 Axes>",
            "image/svg+xml": "<?xml version=\"1.0\" encoding=\"utf-8\" standalone=\"no\"?>\n<!DOCTYPE svg PUBLIC \"-//W3C//DTD SVG 1.1//EN\"\n  \"http://www.w3.org/Graphics/SVG/1.1/DTD/svg11.dtd\">\n<!-- Created with matplotlib (https://matplotlib.org/) -->\n<svg height=\"248.518125pt\" version=\"1.1\" viewBox=\"0 0 372.103125 248.518125\" width=\"372.103125pt\" xmlns=\"http://www.w3.org/2000/svg\" xmlns:xlink=\"http://www.w3.org/1999/xlink\">\n <metadata>\n  <rdf:RDF xmlns:cc=\"http://creativecommons.org/ns#\" xmlns:dc=\"http://purl.org/dc/elements/1.1/\" xmlns:rdf=\"http://www.w3.org/1999/02/22-rdf-syntax-ns#\">\n   <cc:Work>\n    <dc:type rdf:resource=\"http://purl.org/dc/dcmitype/StillImage\"/>\n    <dc:date>2021-02-14T13:10:18.592281</dc:date>\n    <dc:format>image/svg+xml</dc:format>\n    <dc:creator>\n     <cc:Agent>\n      <dc:title>Matplotlib v3.3.2, https://matplotlib.org/</dc:title>\n     </cc:Agent>\n    </dc:creator>\n   </cc:Work>\n  </rdf:RDF>\n </metadata>\n <defs>\n  <style type=\"text/css\">*{stroke-linecap:butt;stroke-linejoin:round;}</style>\n </defs>\n <g id=\"figure_1\">\n  <g id=\"patch_1\">\n   <path d=\"M 0 248.518125 \nL 372.103125 248.518125 \nL 372.103125 0 \nL 0 0 \nz\n\" style=\"fill:none;\"/>\n  </g>\n  <g id=\"axes_1\">\n   <g id=\"patch_2\">\n    <path d=\"M 30.103125 224.64 \nL 364.903125 224.64 \nL 364.903125 7.2 \nL 30.103125 7.2 \nz\n\" style=\"fill:#ffffff;\"/>\n   </g>\n   <g id=\"patch_3\">\n    <path clip-path=\"url(#p22ce408d85)\" d=\"M 45.321307 224.64 \nL 50.88046 224.64 \nL 50.88046 159.313793 \nL 45.321307 159.313793 \nz\n\" style=\"fill:#1f77b4;opacity:0.5;\"/>\n   </g>\n   <g id=\"patch_4\">\n    <path clip-path=\"url(#p22ce408d85)\" d=\"M 52.270248 224.64 \nL 57.829401 224.64 \nL 57.829401 158.164097 \nL 52.270248 158.164097 \nz\n\" style=\"fill:#1f77b4;opacity:0.5;\"/>\n   </g>\n   <g id=\"patch_5\">\n    <path clip-path=\"url(#p22ce408d85)\" d=\"M 59.21919 224.64 \nL 64.778343 224.64 \nL 64.778343 158.484819 \nL 59.21919 158.484819 \nz\n\" style=\"fill:#1f77b4;opacity:0.5;\"/>\n   </g>\n   <g id=\"patch_6\">\n    <path clip-path=\"url(#p22ce408d85)\" d=\"M 66.168131 224.64 \nL 71.727284 224.64 \nL 71.727284 157.383481 \nL 66.168131 157.383481 \nz\n\" style=\"fill:#1f77b4;opacity:0.5;\"/>\n   </g>\n   <g id=\"patch_7\">\n    <path clip-path=\"url(#p22ce408d85)\" d=\"M 73.117073 224.64 \nL 78.676226 224.64 \nL 78.676226 153.565933 \nL 73.117073 153.565933 \nz\n\" style=\"fill:#1f77b4;opacity:0.5;\"/>\n   </g>\n   <g id=\"patch_8\">\n    <path clip-path=\"url(#p22ce408d85)\" d=\"M 80.066014 224.64 \nL 85.625167 224.64 \nL 85.625167 158.749469 \nL 80.066014 158.749469 \nz\n\" style=\"fill:#1f77b4;opacity:0.5;\"/>\n   </g>\n   <g id=\"patch_9\">\n    <path clip-path=\"url(#p22ce408d85)\" d=\"M 87.014956 224.64 \nL 92.574109 224.64 \nL 92.574109 146.143481 \nL 87.014956 146.143481 \nz\n\" style=\"fill:#1f77b4;opacity:0.5;\"/>\n   </g>\n   <g id=\"patch_10\">\n    <path clip-path=\"url(#p22ce408d85)\" d=\"M 93.963897 224.64 \nL 99.52305 224.64 \nL 99.52305 143.984853 \nL 93.963897 143.984853 \nz\n\" style=\"fill:#1f77b4;opacity:0.5;\"/>\n   </g>\n   <g id=\"patch_11\">\n    <path clip-path=\"url(#p22ce408d85)\" d=\"M 100.912839 224.64 \nL 106.471992 224.64 \nL 106.471992 133.153241 \nL 100.912839 133.153241 \nz\n\" style=\"fill:#1f77b4;opacity:0.5;\"/>\n   </g>\n   <g id=\"patch_12\">\n    <path clip-path=\"url(#p22ce408d85)\" d=\"M 107.86178 224.64 \nL 113.420933 224.64 \nL 113.420933 139.2524 \nL 107.86178 139.2524 \nz\n\" style=\"fill:#1f77b4;opacity:0.5;\"/>\n   </g>\n   <g id=\"patch_13\">\n    <path clip-path=\"url(#p22ce408d85)\" d=\"M 114.810722 224.64 \nL 120.369875 224.64 \nL 120.369875 126.560092 \nL 114.810722 126.560092 \nz\n\" style=\"fill:#1f77b4;opacity:0.5;\"/>\n   </g>\n   <g id=\"patch_14\">\n    <path clip-path=\"url(#p22ce408d85)\" d=\"M 121.759663 224.64 \nL 127.318816 224.64 \nL 127.318816 147.784441 \nL 121.759663 147.784441 \nz\n\" style=\"fill:#1f77b4;opacity:0.5;\"/>\n   </g>\n   <g id=\"patch_15\">\n    <path clip-path=\"url(#p22ce408d85)\" d=\"M 128.708604 224.64 \nL 134.267758 224.64 \nL 134.267758 145.736484 \nL 128.708604 145.736484 \nz\n\" style=\"fill:#1f77b4;opacity:0.5;\"/>\n   </g>\n   <g id=\"patch_16\">\n    <path clip-path=\"url(#p22ce408d85)\" d=\"M 135.657546 224.64 \nL 141.216699 224.64 \nL 141.216699 161.028656 \nL 135.657546 161.028656 \nz\n\" style=\"fill:#1f77b4;opacity:0.5;\"/>\n   </g>\n   <g id=\"patch_17\">\n    <path clip-path=\"url(#p22ce408d85)\" d=\"M 142.606487 224.64 \nL 148.165641 224.64 \nL 148.165641 157.646021 \nL 142.606487 157.646021 \nz\n\" style=\"fill:#1f77b4;opacity:0.5;\"/>\n   </g>\n   <g id=\"patch_18\">\n    <path clip-path=\"url(#p22ce408d85)\" d=\"M 149.555429 224.64 \nL 155.114582 224.64 \nL 155.114582 160.818975 \nL 149.555429 160.818975 \nz\n\" style=\"fill:#1f77b4;opacity:0.5;\"/>\n   </g>\n   <g id=\"patch_19\">\n    <path clip-path=\"url(#p22ce408d85)\" d=\"M 156.50437 224.64 \nL 162.063524 224.64 \nL 162.063524 155.299069 \nL 156.50437 155.299069 \nz\n\" style=\"fill:#1f77b4;opacity:0.5;\"/>\n   </g>\n   <g id=\"patch_20\">\n    <path clip-path=\"url(#p22ce408d85)\" d=\"M 163.453312 224.64 \nL 169.012465 224.64 \nL 169.012465 156.545276 \nL 163.453312 156.545276 \nz\n\" style=\"fill:#1f77b4;opacity:0.5;\"/>\n   </g>\n   <g id=\"patch_21\">\n    <path clip-path=\"url(#p22ce408d85)\" d=\"M 170.402253 224.64 \nL 175.961406 224.64 \nL 175.961406 157.756634 \nL 170.402253 157.756634 \nz\n\" style=\"fill:#1f77b4;opacity:0.5;\"/>\n   </g>\n   <g id=\"patch_22\">\n    <path clip-path=\"url(#p22ce408d85)\" d=\"M 177.351195 224.64 \nL 182.910348 224.64 \nL 182.910348 159.290466 \nL 177.351195 159.290466 \nz\n\" style=\"fill:#1f77b4;opacity:0.5;\"/>\n   </g>\n   <g id=\"patch_23\">\n    <path clip-path=\"url(#p22ce408d85)\" d=\"M 184.300136 224.64 \nL 189.859289 224.64 \nL 189.859289 147.28394 \nL 184.300136 147.28394 \nz\n\" style=\"fill:#1f77b4;opacity:0.5;\"/>\n   </g>\n   <g id=\"patch_24\">\n    <path clip-path=\"url(#p22ce408d85)\" d=\"M 191.249078 224.64 \nL 196.808231 224.64 \nL 196.808231 152.427437 \nL 191.249078 152.427437 \nz\n\" style=\"fill:#1f77b4;opacity:0.5;\"/>\n   </g>\n   <g id=\"patch_25\">\n    <path clip-path=\"url(#p22ce408d85)\" d=\"M 198.198019 224.64 \nL 203.757172 224.64 \nL 203.757172 133.143925 \nL 198.198019 133.143925 \nz\n\" style=\"fill:#1f77b4;opacity:0.5;\"/>\n   </g>\n   <g id=\"patch_26\">\n    <path clip-path=\"url(#p22ce408d85)\" d=\"M 205.146961 224.64 \nL 210.706114 224.64 \nL 210.706114 125.143116 \nL 205.146961 125.143116 \nz\n\" style=\"fill:#1f77b4;opacity:0.5;\"/>\n   </g>\n   <g id=\"patch_27\">\n    <path clip-path=\"url(#p22ce408d85)\" d=\"M 212.095902 224.64 \nL 217.655055 224.64 \nL 217.655055 164.525134 \nL 212.095902 164.525134 \nz\n\" style=\"fill:#1f77b4;opacity:0.5;\"/>\n   </g>\n   <g id=\"patch_28\">\n    <path clip-path=\"url(#p22ce408d85)\" d=\"M 219.044844 224.64 \nL 224.603997 224.64 \nL 224.603997 156.964809 \nL 219.044844 156.964809 \nz\n\" style=\"fill:#1f77b4;opacity:0.5;\"/>\n   </g>\n   <g id=\"patch_29\">\n    <path clip-path=\"url(#p22ce408d85)\" d=\"M 225.993785 224.64 \nL 231.552938 224.64 \nL 231.552938 146.905776 \nL 225.993785 146.905776 \nz\n\" style=\"fill:#1f77b4;opacity:0.5;\"/>\n   </g>\n   <g id=\"patch_30\">\n    <path clip-path=\"url(#p22ce408d85)\" d=\"M 232.942726 224.64 \nL 238.50188 224.64 \nL 238.50188 146.773445 \nL 232.942726 146.773445 \nz\n\" style=\"fill:#1f77b4;opacity:0.5;\"/>\n   </g>\n   <g id=\"patch_31\">\n    <path clip-path=\"url(#p22ce408d85)\" d=\"M 239.891668 224.64 \nL 245.450821 224.64 \nL 245.450821 135.228695 \nL 239.891668 135.228695 \nz\n\" style=\"fill:#1f77b4;opacity:0.5;\"/>\n   </g>\n   <g id=\"patch_32\">\n    <path clip-path=\"url(#p22ce408d85)\" d=\"M 246.840609 224.64 \nL 252.399763 224.64 \nL 252.399763 135.330597 \nL 246.840609 135.330597 \nz\n\" style=\"fill:#1f77b4;opacity:0.5;\"/>\n   </g>\n   <g id=\"patch_33\">\n    <path clip-path=\"url(#p22ce408d85)\" d=\"M 253.789551 224.64 \nL 259.348704 224.64 \nL 259.348704 151.256148 \nL 253.789551 151.256148 \nz\n\" style=\"fill:#1f77b4;opacity:0.5;\"/>\n   </g>\n   <g id=\"patch_34\">\n    <path clip-path=\"url(#p22ce408d85)\" d=\"M 260.738492 224.64 \nL 266.297646 224.64 \nL 266.297646 130.049656 \nL 260.738492 130.049656 \nz\n\" style=\"fill:#1f77b4;opacity:0.5;\"/>\n   </g>\n   <g id=\"patch_35\">\n    <path clip-path=\"url(#p22ce408d85)\" d=\"M 267.687434 224.64 \nL 273.246587 224.64 \nL 273.246587 149.4131 \nL 267.687434 149.4131 \nz\n\" style=\"fill:#1f77b4;opacity:0.5;\"/>\n   </g>\n   <g id=\"patch_36\">\n    <path clip-path=\"url(#p22ce408d85)\" d=\"M 274.636375 224.64 \nL 280.195528 224.64 \nL 280.195528 130.082868 \nL 274.636375 130.082868 \nz\n\" style=\"fill:#1f77b4;opacity:0.5;\"/>\n   </g>\n   <g id=\"patch_37\">\n    <path clip-path=\"url(#p22ce408d85)\" d=\"M 281.585317 224.64 \nL 287.14447 224.64 \nL 287.14447 153.90215 \nL 281.585317 153.90215 \nz\n\" style=\"fill:#1f77b4;opacity:0.5;\"/>\n   </g>\n   <g id=\"patch_38\">\n    <path clip-path=\"url(#p22ce408d85)\" d=\"M 288.534258 224.64 \nL 294.093411 224.64 \nL 294.093411 166.178132 \nL 288.534258 166.178132 \nz\n\" style=\"fill:#1f77b4;opacity:0.5;\"/>\n   </g>\n   <g id=\"patch_39\">\n    <path clip-path=\"url(#p22ce408d85)\" d=\"M 295.4832 224.64 \nL 301.042353 224.64 \nL 301.042353 166.643307 \nL 295.4832 166.643307 \nz\n\" style=\"fill:#1f77b4;opacity:0.5;\"/>\n   </g>\n   <g id=\"patch_40\">\n    <path clip-path=\"url(#p22ce408d85)\" d=\"M 302.432141 224.64 \nL 307.991294 224.64 \nL 307.991294 161.883651 \nL 302.432141 161.883651 \nz\n\" style=\"fill:#1f77b4;opacity:0.5;\"/>\n   </g>\n   <g id=\"patch_41\">\n    <path clip-path=\"url(#p22ce408d85)\" d=\"M 309.381083 224.64 \nL 314.940236 224.64 \nL 314.940236 162.407094 \nL 309.381083 162.407094 \nz\n\" style=\"fill:#1f77b4;opacity:0.5;\"/>\n   </g>\n   <g id=\"patch_42\">\n    <path clip-path=\"url(#p22ce408d85)\" d=\"M 316.330024 224.64 \nL 321.889177 224.64 \nL 321.889177 154.506652 \nL 316.330024 154.506652 \nz\n\" style=\"fill:#1f77b4;opacity:0.5;\"/>\n   </g>\n   <g id=\"patch_43\">\n    <path clip-path=\"url(#p22ce408d85)\" d=\"M 323.278966 224.64 \nL 328.838119 224.64 \nL 328.838119 132.774989 \nL 323.278966 132.774989 \nz\n\" style=\"fill:#1f77b4;opacity:0.5;\"/>\n   </g>\n   <g id=\"patch_44\">\n    <path clip-path=\"url(#p22ce408d85)\" d=\"M 330.227907 224.64 \nL 335.78706 224.64 \nL 335.78706 108.71256 \nL 330.227907 108.71256 \nz\n\" style=\"fill:#1f77b4;opacity:0.5;\"/>\n   </g>\n   <g id=\"patch_45\">\n    <path clip-path=\"url(#p22ce408d85)\" d=\"M 337.176849 224.64 \nL 342.736002 224.64 \nL 342.736002 47.980007 \nL 337.176849 47.980007 \nz\n\" style=\"fill:#1f77b4;opacity:0.5;\"/>\n   </g>\n   <g id=\"patch_46\">\n    <path clip-path=\"url(#p22ce408d85)\" d=\"M 344.12579 224.64 \nL 349.684943 224.64 \nL 349.684943 17.554286 \nL 344.12579 17.554286 \nz\n\" style=\"fill:#1f77b4;opacity:0.5;\"/>\n   </g>\n   <g id=\"matplotlib.axis_1\">\n    <g id=\"xtick_1\">\n     <g id=\"line2d_1\">\n      <defs>\n       <path d=\"M 0 0 \nL 0 3.5 \n\" id=\"m72a0a1f5e3\" style=\"stroke:#000000;stroke-width:0.8;\"/>\n      </defs>\n      <g>\n       <use style=\"stroke:#000000;stroke-width:0.8;\" x=\"48.100883\" xlink:href=\"#m72a0a1f5e3\" y=\"224.64\"/>\n      </g>\n     </g>\n     <g id=\"text_1\">\n      <!-- 0 -->\n      <g transform=\"translate(44.919633 239.238437)scale(0.1 -0.1)\">\n       <defs>\n        <path d=\"M 31.78125 66.40625 \nQ 24.171875 66.40625 20.328125 58.90625 \nQ 16.5 51.421875 16.5 36.375 \nQ 16.5 21.390625 20.328125 13.890625 \nQ 24.171875 6.390625 31.78125 6.390625 \nQ 39.453125 6.390625 43.28125 13.890625 \nQ 47.125 21.390625 47.125 36.375 \nQ 47.125 51.421875 43.28125 58.90625 \nQ 39.453125 66.40625 31.78125 66.40625 \nz\nM 31.78125 74.21875 \nQ 44.046875 74.21875 50.515625 64.515625 \nQ 56.984375 54.828125 56.984375 36.375 \nQ 56.984375 17.96875 50.515625 8.265625 \nQ 44.046875 -1.421875 31.78125 -1.421875 \nQ 19.53125 -1.421875 13.0625 8.265625 \nQ 6.59375 17.96875 6.59375 36.375 \nQ 6.59375 54.828125 13.0625 64.515625 \nQ 19.53125 74.21875 31.78125 74.21875 \nz\n\" id=\"DejaVuSans-48\"/>\n       </defs>\n       <use xlink:href=\"#DejaVuSans-48\"/>\n      </g>\n     </g>\n    </g>\n    <g id=\"xtick_2\">\n     <g id=\"line2d_2\">\n      <g>\n       <use style=\"stroke:#000000;stroke-width:0.8;\" x=\"117.590298\" xlink:href=\"#m72a0a1f5e3\" y=\"224.64\"/>\n      </g>\n     </g>\n     <g id=\"text_2\">\n      <!-- 10 -->\n      <g transform=\"translate(111.227798 239.238437)scale(0.1 -0.1)\">\n       <defs>\n        <path d=\"M 12.40625 8.296875 \nL 28.515625 8.296875 \nL 28.515625 63.921875 \nL 10.984375 60.40625 \nL 10.984375 69.390625 \nL 28.421875 72.90625 \nL 38.28125 72.90625 \nL 38.28125 8.296875 \nL 54.390625 8.296875 \nL 54.390625 0 \nL 12.40625 0 \nz\n\" id=\"DejaVuSans-49\"/>\n       </defs>\n       <use xlink:href=\"#DejaVuSans-49\"/>\n       <use x=\"63.623047\" xlink:href=\"#DejaVuSans-48\"/>\n      </g>\n     </g>\n    </g>\n    <g id=\"xtick_3\">\n     <g id=\"line2d_3\">\n      <g>\n       <use style=\"stroke:#000000;stroke-width:0.8;\" x=\"187.079713\" xlink:href=\"#m72a0a1f5e3\" y=\"224.64\"/>\n      </g>\n     </g>\n     <g id=\"text_3\">\n      <!-- 20 -->\n      <g transform=\"translate(180.717213 239.238437)scale(0.1 -0.1)\">\n       <defs>\n        <path d=\"M 19.1875 8.296875 \nL 53.609375 8.296875 \nL 53.609375 0 \nL 7.328125 0 \nL 7.328125 8.296875 \nQ 12.9375 14.109375 22.625 23.890625 \nQ 32.328125 33.6875 34.8125 36.53125 \nQ 39.546875 41.84375 41.421875 45.53125 \nQ 43.3125 49.21875 43.3125 52.78125 \nQ 43.3125 58.59375 39.234375 62.25 \nQ 35.15625 65.921875 28.609375 65.921875 \nQ 23.96875 65.921875 18.8125 64.3125 \nQ 13.671875 62.703125 7.8125 59.421875 \nL 7.8125 69.390625 \nQ 13.765625 71.78125 18.9375 73 \nQ 24.125 74.21875 28.421875 74.21875 \nQ 39.75 74.21875 46.484375 68.546875 \nQ 53.21875 62.890625 53.21875 53.421875 \nQ 53.21875 48.921875 51.53125 44.890625 \nQ 49.859375 40.875 45.40625 35.40625 \nQ 44.1875 33.984375 37.640625 27.21875 \nQ 31.109375 20.453125 19.1875 8.296875 \nz\n\" id=\"DejaVuSans-50\"/>\n       </defs>\n       <use xlink:href=\"#DejaVuSans-50\"/>\n       <use x=\"63.623047\" xlink:href=\"#DejaVuSans-48\"/>\n      </g>\n     </g>\n    </g>\n    <g id=\"xtick_4\">\n     <g id=\"line2d_4\">\n      <g>\n       <use style=\"stroke:#000000;stroke-width:0.8;\" x=\"256.569127\" xlink:href=\"#m72a0a1f5e3\" y=\"224.64\"/>\n      </g>\n     </g>\n     <g id=\"text_4\">\n      <!-- 30 -->\n      <g transform=\"translate(250.206627 239.238437)scale(0.1 -0.1)\">\n       <defs>\n        <path d=\"M 40.578125 39.3125 \nQ 47.65625 37.796875 51.625 33 \nQ 55.609375 28.21875 55.609375 21.1875 \nQ 55.609375 10.40625 48.1875 4.484375 \nQ 40.765625 -1.421875 27.09375 -1.421875 \nQ 22.515625 -1.421875 17.65625 -0.515625 \nQ 12.796875 0.390625 7.625 2.203125 \nL 7.625 11.71875 \nQ 11.71875 9.328125 16.59375 8.109375 \nQ 21.484375 6.890625 26.8125 6.890625 \nQ 36.078125 6.890625 40.9375 10.546875 \nQ 45.796875 14.203125 45.796875 21.1875 \nQ 45.796875 27.640625 41.28125 31.265625 \nQ 36.765625 34.90625 28.71875 34.90625 \nL 20.21875 34.90625 \nL 20.21875 43.015625 \nL 29.109375 43.015625 \nQ 36.375 43.015625 40.234375 45.921875 \nQ 44.09375 48.828125 44.09375 54.296875 \nQ 44.09375 59.90625 40.109375 62.90625 \nQ 36.140625 65.921875 28.71875 65.921875 \nQ 24.65625 65.921875 20.015625 65.03125 \nQ 15.375 64.15625 9.8125 62.3125 \nL 9.8125 71.09375 \nQ 15.4375 72.65625 20.34375 73.4375 \nQ 25.25 74.21875 29.59375 74.21875 \nQ 40.828125 74.21875 47.359375 69.109375 \nQ 53.90625 64.015625 53.90625 55.328125 \nQ 53.90625 49.265625 50.4375 45.09375 \nQ 46.96875 40.921875 40.578125 39.3125 \nz\n\" id=\"DejaVuSans-51\"/>\n       </defs>\n       <use xlink:href=\"#DejaVuSans-51\"/>\n       <use x=\"63.623047\" xlink:href=\"#DejaVuSans-48\"/>\n      </g>\n     </g>\n    </g>\n    <g id=\"xtick_5\">\n     <g id=\"line2d_5\">\n      <g>\n       <use style=\"stroke:#000000;stroke-width:0.8;\" x=\"326.058542\" xlink:href=\"#m72a0a1f5e3\" y=\"224.64\"/>\n      </g>\n     </g>\n     <g id=\"text_5\">\n      <!-- 40 -->\n      <g transform=\"translate(319.696042 239.238437)scale(0.1 -0.1)\">\n       <defs>\n        <path d=\"M 37.796875 64.3125 \nL 12.890625 25.390625 \nL 37.796875 25.390625 \nz\nM 35.203125 72.90625 \nL 47.609375 72.90625 \nL 47.609375 25.390625 \nL 58.015625 25.390625 \nL 58.015625 17.1875 \nL 47.609375 17.1875 \nL 47.609375 0 \nL 37.796875 0 \nL 37.796875 17.1875 \nL 4.890625 17.1875 \nL 4.890625 26.703125 \nz\n\" id=\"DejaVuSans-52\"/>\n       </defs>\n       <use xlink:href=\"#DejaVuSans-52\"/>\n       <use x=\"63.623047\" xlink:href=\"#DejaVuSans-48\"/>\n      </g>\n     </g>\n    </g>\n   </g>\n   <g id=\"matplotlib.axis_2\">\n    <g id=\"ytick_1\">\n     <g id=\"line2d_6\">\n      <defs>\n       <path d=\"M 0 0 \nL -3.5 0 \n\" id=\"m2e706c6ba6\" style=\"stroke:#000000;stroke-width:0.8;\"/>\n      </defs>\n      <g>\n       <use style=\"stroke:#000000;stroke-width:0.8;\" x=\"30.103125\" xlink:href=\"#m2e706c6ba6\" y=\"224.64\"/>\n      </g>\n     </g>\n     <g id=\"text_6\">\n      <!-- 0.0 -->\n      <g transform=\"translate(7.2 228.439219)scale(0.1 -0.1)\">\n       <defs>\n        <path d=\"M 10.6875 12.40625 \nL 21 12.40625 \nL 21 0 \nL 10.6875 0 \nz\n\" id=\"DejaVuSans-46\"/>\n       </defs>\n       <use xlink:href=\"#DejaVuSans-48\"/>\n       <use x=\"63.623047\" xlink:href=\"#DejaVuSans-46\"/>\n       <use x=\"95.410156\" xlink:href=\"#DejaVuSans-48\"/>\n      </g>\n     </g>\n    </g>\n    <g id=\"ytick_2\">\n     <g id=\"line2d_7\">\n      <g>\n       <use style=\"stroke:#000000;stroke-width:0.8;\" x=\"30.103125\" xlink:href=\"#m2e706c6ba6\" y=\"196.337366\"/>\n      </g>\n     </g>\n     <g id=\"text_7\">\n      <!-- 0.2 -->\n      <g transform=\"translate(7.2 200.136585)scale(0.1 -0.1)\">\n       <use xlink:href=\"#DejaVuSans-48\"/>\n       <use x=\"63.623047\" xlink:href=\"#DejaVuSans-46\"/>\n       <use x=\"95.410156\" xlink:href=\"#DejaVuSans-50\"/>\n      </g>\n     </g>\n    </g>\n    <g id=\"ytick_3\">\n     <g id=\"line2d_8\">\n      <g>\n       <use style=\"stroke:#000000;stroke-width:0.8;\" x=\"30.103125\" xlink:href=\"#m2e706c6ba6\" y=\"168.034732\"/>\n      </g>\n     </g>\n     <g id=\"text_8\">\n      <!-- 0.4 -->\n      <g transform=\"translate(7.2 171.833951)scale(0.1 -0.1)\">\n       <use xlink:href=\"#DejaVuSans-48\"/>\n       <use x=\"63.623047\" xlink:href=\"#DejaVuSans-46\"/>\n       <use x=\"95.410156\" xlink:href=\"#DejaVuSans-52\"/>\n      </g>\n     </g>\n    </g>\n    <g id=\"ytick_4\">\n     <g id=\"line2d_9\">\n      <g>\n       <use style=\"stroke:#000000;stroke-width:0.8;\" x=\"30.103125\" xlink:href=\"#m2e706c6ba6\" y=\"139.732098\"/>\n      </g>\n     </g>\n     <g id=\"text_9\">\n      <!-- 0.6 -->\n      <g transform=\"translate(7.2 143.531317)scale(0.1 -0.1)\">\n       <defs>\n        <path d=\"M 33.015625 40.375 \nQ 26.375 40.375 22.484375 35.828125 \nQ 18.609375 31.296875 18.609375 23.390625 \nQ 18.609375 15.53125 22.484375 10.953125 \nQ 26.375 6.390625 33.015625 6.390625 \nQ 39.65625 6.390625 43.53125 10.953125 \nQ 47.40625 15.53125 47.40625 23.390625 \nQ 47.40625 31.296875 43.53125 35.828125 \nQ 39.65625 40.375 33.015625 40.375 \nz\nM 52.59375 71.296875 \nL 52.59375 62.3125 \nQ 48.875 64.0625 45.09375 64.984375 \nQ 41.3125 65.921875 37.59375 65.921875 \nQ 27.828125 65.921875 22.671875 59.328125 \nQ 17.53125 52.734375 16.796875 39.40625 \nQ 19.671875 43.65625 24.015625 45.921875 \nQ 28.375 48.1875 33.59375 48.1875 \nQ 44.578125 48.1875 50.953125 41.515625 \nQ 57.328125 34.859375 57.328125 23.390625 \nQ 57.328125 12.15625 50.6875 5.359375 \nQ 44.046875 -1.421875 33.015625 -1.421875 \nQ 20.359375 -1.421875 13.671875 8.265625 \nQ 6.984375 17.96875 6.984375 36.375 \nQ 6.984375 53.65625 15.1875 63.9375 \nQ 23.390625 74.21875 37.203125 74.21875 \nQ 40.921875 74.21875 44.703125 73.484375 \nQ 48.484375 72.75 52.59375 71.296875 \nz\n\" id=\"DejaVuSans-54\"/>\n       </defs>\n       <use xlink:href=\"#DejaVuSans-48\"/>\n       <use x=\"63.623047\" xlink:href=\"#DejaVuSans-46\"/>\n       <use x=\"95.410156\" xlink:href=\"#DejaVuSans-54\"/>\n      </g>\n     </g>\n    </g>\n    <g id=\"ytick_5\">\n     <g id=\"line2d_10\">\n      <g>\n       <use style=\"stroke:#000000;stroke-width:0.8;\" x=\"30.103125\" xlink:href=\"#m2e706c6ba6\" y=\"111.429464\"/>\n      </g>\n     </g>\n     <g id=\"text_10\">\n      <!-- 0.8 -->\n      <g transform=\"translate(7.2 115.228683)scale(0.1 -0.1)\">\n       <defs>\n        <path d=\"M 31.78125 34.625 \nQ 24.75 34.625 20.71875 30.859375 \nQ 16.703125 27.09375 16.703125 20.515625 \nQ 16.703125 13.921875 20.71875 10.15625 \nQ 24.75 6.390625 31.78125 6.390625 \nQ 38.8125 6.390625 42.859375 10.171875 \nQ 46.921875 13.96875 46.921875 20.515625 \nQ 46.921875 27.09375 42.890625 30.859375 \nQ 38.875 34.625 31.78125 34.625 \nz\nM 21.921875 38.8125 \nQ 15.578125 40.375 12.03125 44.71875 \nQ 8.5 49.078125 8.5 55.328125 \nQ 8.5 64.0625 14.71875 69.140625 \nQ 20.953125 74.21875 31.78125 74.21875 \nQ 42.671875 74.21875 48.875 69.140625 \nQ 55.078125 64.0625 55.078125 55.328125 \nQ 55.078125 49.078125 51.53125 44.71875 \nQ 48 40.375 41.703125 38.8125 \nQ 48.828125 37.15625 52.796875 32.3125 \nQ 56.78125 27.484375 56.78125 20.515625 \nQ 56.78125 9.90625 50.3125 4.234375 \nQ 43.84375 -1.421875 31.78125 -1.421875 \nQ 19.734375 -1.421875 13.25 4.234375 \nQ 6.78125 9.90625 6.78125 20.515625 \nQ 6.78125 27.484375 10.78125 32.3125 \nQ 14.796875 37.15625 21.921875 38.8125 \nz\nM 18.3125 54.390625 \nQ 18.3125 48.734375 21.84375 45.5625 \nQ 25.390625 42.390625 31.78125 42.390625 \nQ 38.140625 42.390625 41.71875 45.5625 \nQ 45.3125 48.734375 45.3125 54.390625 \nQ 45.3125 60.0625 41.71875 63.234375 \nQ 38.140625 66.40625 31.78125 66.40625 \nQ 25.390625 66.40625 21.84375 63.234375 \nQ 18.3125 60.0625 18.3125 54.390625 \nz\n\" id=\"DejaVuSans-56\"/>\n       </defs>\n       <use xlink:href=\"#DejaVuSans-48\"/>\n       <use x=\"63.623047\" xlink:href=\"#DejaVuSans-46\"/>\n       <use x=\"95.410156\" xlink:href=\"#DejaVuSans-56\"/>\n      </g>\n     </g>\n    </g>\n    <g id=\"ytick_6\">\n     <g id=\"line2d_11\">\n      <g>\n       <use style=\"stroke:#000000;stroke-width:0.8;\" x=\"30.103125\" xlink:href=\"#m2e706c6ba6\" y=\"83.12683\"/>\n      </g>\n     </g>\n     <g id=\"text_11\">\n      <!-- 1.0 -->\n      <g transform=\"translate(7.2 86.926049)scale(0.1 -0.1)\">\n       <use xlink:href=\"#DejaVuSans-49\"/>\n       <use x=\"63.623047\" xlink:href=\"#DejaVuSans-46\"/>\n       <use x=\"95.410156\" xlink:href=\"#DejaVuSans-48\"/>\n      </g>\n     </g>\n    </g>\n    <g id=\"ytick_7\">\n     <g id=\"line2d_12\">\n      <g>\n       <use style=\"stroke:#000000;stroke-width:0.8;\" x=\"30.103125\" xlink:href=\"#m2e706c6ba6\" y=\"54.824197\"/>\n      </g>\n     </g>\n     <g id=\"text_12\">\n      <!-- 1.2 -->\n      <g transform=\"translate(7.2 58.623415)scale(0.1 -0.1)\">\n       <use xlink:href=\"#DejaVuSans-49\"/>\n       <use x=\"63.623047\" xlink:href=\"#DejaVuSans-46\"/>\n       <use x=\"95.410156\" xlink:href=\"#DejaVuSans-50\"/>\n      </g>\n     </g>\n    </g>\n    <g id=\"ytick_8\">\n     <g id=\"line2d_13\">\n      <g>\n       <use style=\"stroke:#000000;stroke-width:0.8;\" x=\"30.103125\" xlink:href=\"#m2e706c6ba6\" y=\"26.521563\"/>\n      </g>\n     </g>\n     <g id=\"text_13\">\n      <!-- 1.4 -->\n      <g transform=\"translate(7.2 30.320781)scale(0.1 -0.1)\">\n       <use xlink:href=\"#DejaVuSans-49\"/>\n       <use x=\"63.623047\" xlink:href=\"#DejaVuSans-46\"/>\n       <use x=\"95.410156\" xlink:href=\"#DejaVuSans-52\"/>\n      </g>\n     </g>\n    </g>\n   </g>\n   <g id=\"patch_47\">\n    <path d=\"M 30.103125 224.64 \nL 30.103125 7.2 \n\" style=\"fill:none;stroke:#000000;stroke-linecap:square;stroke-linejoin:miter;stroke-width:0.8;\"/>\n   </g>\n   <g id=\"patch_48\">\n    <path d=\"M 364.903125 224.64 \nL 364.903125 7.2 \n\" style=\"fill:none;stroke:#000000;stroke-linecap:square;stroke-linejoin:miter;stroke-width:0.8;\"/>\n   </g>\n   <g id=\"patch_49\">\n    <path d=\"M 30.103125 224.64 \nL 364.903125 224.64 \n\" style=\"fill:none;stroke:#000000;stroke-linecap:square;stroke-linejoin:miter;stroke-width:0.8;\"/>\n   </g>\n   <g id=\"patch_50\">\n    <path d=\"M 30.103125 7.2 \nL 364.903125 7.2 \n\" style=\"fill:none;stroke:#000000;stroke-linecap:square;stroke-linejoin:miter;stroke-width:0.8;\"/>\n   </g>\n  </g>\n </g>\n <defs>\n  <clipPath id=\"p22ce408d85\">\n   <rect height=\"217.44\" width=\"334.8\" x=\"30.103125\" y=\"7.2\"/>\n  </clipPath>\n </defs>\n</svg>\n",
            "image/png": "[encoded data removed]"
          },
          "metadata": {
            "needs_background": "light"
          }
        }
      ]
    },
    {
      "cell_type": "code",
      "metadata": {
        "id": "J3o9le9fMHmh",
        "outputId": "828117bd-4a50-4ca4-86e7-e2c951916c70",
        "colab": {
          "base_uri": "https://localhost:8080/"
        }
      },
      "source": [
        "all_shap[0,1:]"
      ],
      "execution_count": 8,
      "outputs": [
        {
          "output_type": "execute_result",
          "data": {
            "text/plain": [
              "array([0.        , 0.01720051, 0.01860812, 0.01798305, 0.01703575,\n",
              "       0.01801668, 0.01866769, 0.0217435 , 0.01184482, 0.02139052,\n",
              "       0.02061058, 0.01871057, 0.01940041, 0.01818338, 0.01896258,\n",
              "       0.0186179 , 0.01738747, 0.01953086, 0.01775904, 0.018669  ,\n",
              "       0.0201799 , 0.02072652, 0.0150677 , 0.00938298, 0.00940596,\n",
              "       0.01586273, 0.01162449, 0.00894041, 0.00876268, 0.02143643,\n",
              "       0.02191837, 0.0190801 , 0.01872542, 0.00459146, 0.00824312,\n",
              "       0.01187543, 0.01233644, 0.0072687 , 0.01783704, 0.00705344,\n",
              "       0.00886221, 0.01207572, 0.02513013, 0.02038101])"
            ]
          },
          "metadata": {},
          "execution_count": 8
        }
      ]
    },
    {
      "cell_type": "code",
      "execution_count": null,
      "metadata": {},
      "outputs": [],
      "source": []
    }
  ]
}