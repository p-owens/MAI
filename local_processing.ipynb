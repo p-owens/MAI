{
  "nbformat": 4,
  "nbformat_minor": 0,
  "metadata": {
    "language_info": {
      "codemirror_mode": {
        "name": "ipython",
        "version": 3
      },
      "file_extension": ".py",
      "mimetype": "text/x-python",
      "name": "python",
      "nbconvert_exporter": "python",
      "pygments_lexer": "ipython3",
      "version": "3.6.12-final"
    },
    "orig_nbformat": 2,
    "kernelspec": {
      "name": "python3",
      "display_name": "Python 3.6.12 64-bit ('MAI': conda)",
      "metadata": {
        "interpreter": {
          "hash": "a4249f8866311b440e9e98cc05ffde0aea60cb43009b8218deea9bea0086f249"
        }
      }
    },
    "colab": {
      "name": "local_processing.ipynb",
      "provenance": []
    }
  },
  "cells": [
    {
      "cell_type": "code",
      "metadata": {
        "id": "msODXEJYDsh0"
      },
      "source": [
        "import keras\n",
        "import tensorflow as tf\n",
        "import pandas as pd\n",
        "import matplotlib.pyplot as plt\n",
        "import numpy as np"
      ],
      "execution_count": 14,
      "outputs": []
    },
    {
      "cell_type": "code",
      "metadata": {
        "id": "uJqzzL--Dsh4"
      },
      "source": [
        "pd_shap = pd.read_csv('all_mean_shap.csv',\n",
        "                      header=0,\n",
        "                      index_col=0)\n",
        "\n",
        "all_shap = pd.DataFrame.to_numpy(pd_shap)"
      ],
      "execution_count": 35,
      "outputs": []
    },
    {
      "cell_type": "code",
      "metadata": {
        "id": "xND-yl8vEvOO"
      },
      "source": [
        "used_cols = [3,11,19,23,32,35,40]\n",
        "\n",
        "shap_chnls = all_shap[used_cols, 1:]"
      ],
      "execution_count": 39,
      "outputs": []
    },
    {
      "cell_type": "code",
      "metadata": {
        "id": "mCG1mlWiSreU",
        "outputId": "3984a1e0-9d87-40d2-b133-5db178c81a7f",
        "colab": {
          "base_uri": "https://localhost:8080/"
        }
      },
      "source": [
        "np.sum(shap_chnls, axis=0)"
      ],
      "execution_count": 52,
      "outputs": [
        {
          "output_type": "execute_result",
          "data": {
            "text/plain": [
              "(44,)"
            ]
          },
          "metadata": {
            "tags": []
          },
          "execution_count": 52
        }
      ]
    },
    {
      "cell_type": "code",
      "metadata": {
        "id": "msSn_qfpLPQR"
      },
      "source": [
        "ch_names = np.arange(44).tolist()\n",
        "freqs = np.arange(191.6, 195.9, 0.1).tolist()\n",
        "for x in range(len(ch_names)):\n",
        "  ch_names[x] = \"Ch %.0f (%.1f)\" % (ch_names[x], freqs[x])"
      ],
      "execution_count": 37,
      "outputs": []
    },
    {
      "cell_type": "code",
      "metadata": {
        "id": "9ZYqijqCT8un",
        "outputId": "f0f98432-1f1b-4f90-e02e-53f7a2e10b41",
        "colab": {
          "base_uri": "https://localhost:8080/"
        }
      },
      "source": [
        "np.argsort(shap_chnls, axis=0)[0,-10:] \n",
        "\n",
        "temp = np.argpartition(-shap_chnls, 10)\n",
        "result_args = temp[:,:10]\n",
        "#print(result_args)\n",
        "\n",
        "count = np.bincount(result_args.flatten())\n",
        "print(count)\n",
        "#np.unique(result_args)"
      ],
      "execution_count": 96,
      "outputs": [
        {
          "output_type": "stream",
          "text": [
            "[0 0 0 0 0 0 1 4 3 3 3 1 2 1 0 0 1 1 0 0 3 0 6 2 0 0 2 2 3 1 3 2 3 3 1 0 1\n",
            " 1 1 0 1 3 5 7]\n"
          ],
          "name": "stdout"
        }
      ]
    },
    {
      "cell_type": "code",
      "metadata": {
        "id": "Vzpfh4EiLieR",
        "outputId": "48a962d3-774b-4903-aaf9-6c6f2883c3de",
        "colab": {
          "base_uri": "https://localhost:8080/",
          "height": 282
        }
      },
      "source": [
        "y_pos = np.arange(len(ch_names))\n",
        "\n",
        "ch = 0\n",
        "plt.bar(y_pos, np.sum(shap_chnls, axis=0), align='center', alpha=0.5)\n",
        "\n",
        "#ch = 1\n",
        "#plt.bar(y_pos, shap_chnls[ch], align='center', alpha=0.5)\n",
        "\n",
        "\n"
      ],
      "execution_count": 53,
      "outputs": [
        {
          "output_type": "execute_result",
          "data": {
            "text/plain": [
              "<BarContainer object of 44 artists>"
            ]
          },
          "metadata": {
            "tags": []
          },
          "execution_count": 53
        },
        {
          "output_type": "display_data",
          "data": {
            "image/png": "[encoded data removed]",
            "text/plain": [
              "<Figure size 432x288 with 1 Axes>"
            ]
          },
          "metadata": {
            "tags": [],
            "needs_background": "light"
          }
        }
      ]
    },
    {
      "cell_type": "code",
      "metadata": {
        "id": "J3o9le9fMHmh",
        "outputId": "828117bd-4a50-4ca4-86e7-e2c951916c70",
        "colab": {
          "base_uri": "https://localhost:8080/"
        }
      },
      "source": [
        "all_shap[0,1:]"
      ],
      "execution_count": 17,
      "outputs": [
        {
          "output_type": "execute_result",
          "data": {
            "text/plain": [
              "array([0., 0., 0., 0., 0., 0., 0., 0., 0., 0., 0., 0., 0., 0., 0., 0., 0.,\n",
              "       0., 0., 0., 0., 0., 0., 0., 0., 0., 0., 0., 0., 0., 0., 0., 0., 0.,\n",
              "       0., 0., 0., 0., 0., 0., 0., 0., 0., 0.])"
            ]
          },
          "metadata": {
            "tags": []
          },
          "execution_count": 17
        }
      ]
    }
  ]
}