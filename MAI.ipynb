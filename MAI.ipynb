{
  "nbformat": 4,
  "nbformat_minor": 0,
  "metadata": {
    "colab": {
      "name": "MAI.ipynb",
      "provenance": [],
      "collapsed_sections": [],
      "toc_visible": true,
      "authorship_tag": "ABX9TyPBTvfo41Xy590iQEw8WVOs",
      "include_colab_link": true
    },
    "kernelspec": {
      "name": "python3",
      "display_name": "Python 3"
    },
    "accelerator": "GPU"
  },
  "cells": [
    {
      "cell_type": "markdown",
      "metadata": {
        "id": "view-in-github",
        "colab_type": "text"
      },
      "source": [
        "<a href=\"https://colab.research.google.com/github/p-owens/MAI/blob/main/MAI.ipynb\" target=\"_parent\"><img src=\"https://colab.research.google.com/assets/colab-badge.svg\" alt=\"Open In Colab\"/></a>"
      ]
    },
    {
      "cell_type": "code",
      "metadata": {
        "id": "aEx4VxbzFM5a"
      },
      "source": [
        "import pandas as pd\r\n",
        "import tensorflow as tf\r\n",
        "from tensorflow import keras\r\n",
        "\r\n",
        "\r\n",
        "#borrowed form 5c16\r\n",
        "from keras import datasets\r\n",
        "from keras.layers import Dense, Flatten, Dropout, Activation\r\n",
        "from keras.regularizers import l2\r\n",
        "\r\n",
        "from keras.models import model_from_json\r\n",
        "\r\n",
        "from IPython.display import clear_output\r\n",
        "\r\n",
        "import numpy as np\r\n",
        "import matplotlib.pyplot as plt\r\n",
        "%matplotlib inline\r\n",
        "from matplotlib.ticker import MaxNLocator\r\n",
        "\r\n",
        "import pickle\r\n",
        "import sklearn as skl\r\n",
        "\r\n",
        "from sklearn import datasets, linear_model\r\n",
        "from sklearn.model_selection import cross_val_score"
      ],
      "execution_count": 27,
      "outputs": []
    },
    {
      "cell_type": "code",
      "metadata": {
        "id": "gUaWQfvzF40O"
      },
      "source": [
        "# Define some useful functions\r\n",
        "class PlotLossAccuracy(keras.callbacks.Callback):\r\n",
        "    def on_train_begin(self, logs={}):\r\n",
        "        self.i = 0\r\n",
        "        self.x = []\r\n",
        "        self.acc = []\r\n",
        "        self.losses = []\r\n",
        "        self.val_losses = []\r\n",
        "        self.val_acc = []\r\n",
        "        self.logs = []\r\n",
        "        \r\n",
        "\r\n",
        "    def on_epoch_end(self, epoch, logs={}):\r\n",
        "        \r\n",
        "        self.logs.append(logs)\r\n",
        "        self.x.append(int(self.i))\r\n",
        "        self.losses.append(logs.get('loss'))\r\n",
        "        self.val_losses.append(logs.get('val_loss'))\r\n",
        "        self.acc.append(logs.get('acc'))\r\n",
        "        self.val_acc.append(logs.get('val_acc'))\r\n",
        "        \r\n",
        "        self.i += 1\r\n",
        "        \r\n",
        "        clear_output(wait=True)\r\n",
        "        plt.figure(figsize=(16, 6))\r\n",
        "        plt.plot([1, 2])\r\n",
        "        plt.subplot(121) \r\n",
        "        plt.plot(self.x, self.losses, label=\"train loss\")\r\n",
        "        plt.plot(self.x, self.val_losses, label=\"validation loss\")\r\n",
        "        plt.gca().xaxis.set_major_locator(MaxNLocator(integer=True))\r\n",
        "        plt.ylabel('loss')\r\n",
        "        plt.xlabel('epoch')\r\n",
        "        plt.title('Model Loss')\r\n",
        "        plt.legend()\r\n",
        "        plt.subplot(122)         \r\n",
        "        plt.plot(self.x, self.acc, label=\"training accuracy\")\r\n",
        "        plt.plot(self.x, self.val_acc, label=\"validation accuracy\")\r\n",
        "        plt.legend()\r\n",
        "        plt.ylabel('accuracy')\r\n",
        "        plt.xlabel('epoch')\r\n",
        "        plt.title('Model Accuracy')\r\n",
        "        plt.gca().xaxis.set_major_locator(MaxNLocator(integer=True))\r\n",
        "        plt.show();\r\n",
        "        \r\n",
        "        print(\"Training Accuracy: \", self.acc)\r\n",
        "        \r\n",
        "def save_model_to_disk():    \r\n",
        "    # save model and weights (don't change the filenames)\r\n",
        "    model_json = model.to_json()\r\n",
        "    with open(\"model.json\", \"w\") as json_file:\r\n",
        "        json_file.write(model_json)\r\n",
        "    # serialize weights to HDF5\r\n",
        "    model.save_weights(\"model.h5\")\r\n",
        "    print(\"Saved model to model.json and weights to model.h5\")"
      ],
      "execution_count": 28,
      "outputs": []
    },
    {
      "cell_type": "code",
      "metadata": {
        "id": "CY7XJknsPN9f"
      },
      "source": [
        "#retreiving both datasets from GitHub\r\n",
        "git_xval = 'https://raw.githubusercontent.com/p-owens/MAI/main/x_val.csv'\r\n",
        "git_yval = 'https://raw.githubusercontent.com/p-owens/MAI/main/y_val.csv'\r\n",
        "df0 = pd.read_csv(git_xval,\r\n",
        "                index_col=False,\r\n",
        "                 header=None\r\n",
        "                 )\r\n",
        "df1 = pd.read_csv(git_yval,\r\n",
        "                index_col=False,\r\n",
        "                 header=None\r\n",
        "                 )"
      ],
      "execution_count": 45,
      "outputs": []
    },
    {
      "cell_type": "code",
      "metadata": {
        "colab": {
          "base_uri": "https://localhost:8080/"
        },
        "id": "mjHZuQeRggB2",
        "outputId": "9b082a29-a950-4d29-c394-9a5c52d46068"
      },
      "source": [
        "x_values = df0.to_numpy()\r\n",
        "y_values = df1.to_numpy()\r\n",
        "\r\n",
        "y_values = y_values[:,0]\r\n",
        "x_values = x_values[1::2,:]\r\n",
        "print(x_values[0:2,:])\r\n",
        "print(y_values[0:20])\r\n",
        "print(y_values.shape)\r\n",
        "print(x_values.shape)\r\n"
      ],
      "execution_count": 46,
      "outputs": [
        {
          "output_type": "stream",
          "text": [
            "[[1. 0. 1. 1. 0. 1. 0. 0. 0. 0. 0. 0. 0. 1. 0. 1. 0. 0. 1. 1. 0. 0. 0. 1.\n",
            "  1. 1. 0. 0. 0. 1. 1. 0. 1. 0. 0. 0. 0. 0. 0. 0. 1. 0. 0. 0.]\n",
            " [1. 0. 1. 1. 1. 1. 0. 1. 1. 1. 1. 0. 1. 1. 1. 1. 0. 1. 1. 1. 1. 0. 0. 0.\n",
            "  1. 1. 0. 1. 1. 1. 1. 0. 1. 1. 1. 1. 0. 1. 1. 0. 1. 0. 0. 1.]]\n",
            "[1.38589439 1.4471488  0.         1.10415431 1.76300941 1.19643271\n",
            " 1.8506994  0.         0.         0.         0.         0.\n",
            " 1.42425867 1.24256777 1.38136267 0.         1.15511596 0.\n",
            " 1.51584834 1.39263952]\n",
            "(11972,)\n",
            "(11972, 44)\n"
          ],
          "name": "stdout"
        }
      ]
    },
    {
      "cell_type": "code",
      "metadata": {
        "id": "H6SYFmT8b7Uf"
      },
      "source": [
        "#generate the test dataset\r\n",
        "x_rem, x_test, y_rem, y_test = skl.model_selection.train_test_split(x_values, y_values, test_size=.1, random_state=0)\r\n",
        "\r\n",
        "#generate the validation and training datasets\r\n",
        "x_train, x_val, y_train, y_val = skl.model_selection.train_test_split(x_rem, y_rem, test_size=.2, random_state=0)"
      ],
      "execution_count": 47,
      "outputs": []
    },
    {
      "cell_type": "code",
      "metadata": {
        "id": "hyF8oYzMF460",
        "outputId": "7059bee8-03d5-48ea-d6dd-0f1fa1e5f708",
        "colab": {
          "base_uri": "https://localhost:8080/"
        }
      },
      "source": [
        "print(y_test.shape)\r\n",
        "print(x_test.shape)\r\n",
        "print(y_val.shape)\r\n",
        "print(x_val.shape)\r\n",
        "print(y_train.shape)\r\n",
        "print(x_train.shape)"
      ],
      "execution_count": 48,
      "outputs": [
        {
          "output_type": "stream",
          "text": [
            "(1198,)\n",
            "(1198, 44)\n",
            "(2155,)\n",
            "(2155, 44)\n",
            "(8619,)\n",
            "(8619, 44)\n"
          ],
          "name": "stdout"
        }
      ]
    },
    {
      "cell_type": "code",
      "metadata": {
        "colab": {
          "base_uri": "https://localhost:8080/"
        },
        "id": "1WkWK5ucepHI",
        "outputId": "cfddd189-ccf9-48ab-da16-4c8981a611d1"
      },
      "source": [
        "inputs = keras.layers.Input(shape=(44,))\r\n",
        "\r\n",
        "x = Dense(88, activation='relu')(inputs)\r\n",
        "x = Dropout(0.45)(x) # Drop out random 2% to prevent overfitting\r\n",
        "x = Dense(88, activation='linear')(x)\r\n",
        "x = Dropout(0.45)(x) # Drop out random 25% to prevent overfitting\r\n",
        "x = Dense(88, activation='relu')(x)\r\n",
        "x = Dropout(0.45)(x) # Drop out random 2% to prevent overfitting\r\n",
        "x = Dense(44, activation='linear')(x)\r\n",
        "x = Dropout(0.45)(x) # Drop out random 25% to prevent overfitting\r\n",
        "\r\n",
        "\r\n",
        "\r\n",
        "predictions = Dense(1, activation='relu')(x)\r\n",
        "\r\n",
        "# we create the model \r\n",
        "model = keras.models.Model(inputs=inputs, outputs=predictions)\r\n",
        "opt = keras.optimizers.SGD(lr=0.02, decay=1e-6, momentum=0.99, nesterov=True)\r\n",
        "# opt = keras.optimizers.Adadelta()\r\n",
        "\r\n",
        "# setup the optimisation strategy\r\n",
        "model.compile(optimizer=opt,\r\n",
        "              loss='mean_squared_error',\r\n",
        "              metrics=[tf.keras.metrics.MeanAbsoluteError()])\r\n",
        "\r\n",
        "\r\n",
        "model.summary()"
      ],
      "execution_count": 53,
      "outputs": [
        {
          "output_type": "stream",
          "text": [
            "Model: \"model_5\"\n",
            "_________________________________________________________________\n",
            "Layer (type)                 Output Shape              Param #   \n",
            "=================================================================\n",
            "input_6 (InputLayer)         [(None, 44)]              0         \n",
            "_________________________________________________________________\n",
            "dense_25 (Dense)             (None, 88)                3960      \n",
            "_________________________________________________________________\n",
            "dropout_20 (Dropout)         (None, 88)                0         \n",
            "_________________________________________________________________\n",
            "dense_26 (Dense)             (None, 88)                7832      \n",
            "_________________________________________________________________\n",
            "dropout_21 (Dropout)         (None, 88)                0         \n",
            "_________________________________________________________________\n",
            "dense_27 (Dense)             (None, 88)                7832      \n",
            "_________________________________________________________________\n",
            "dropout_22 (Dropout)         (None, 88)                0         \n",
            "_________________________________________________________________\n",
            "dense_28 (Dense)             (None, 44)                3916      \n",
            "_________________________________________________________________\n",
            "dropout_23 (Dropout)         (None, 44)                0         \n",
            "_________________________________________________________________\n",
            "dense_29 (Dense)             (None, 1)                 45        \n",
            "=================================================================\n",
            "Total params: 23,585\n",
            "Trainable params: 23,585\n",
            "Non-trainable params: 0\n",
            "_________________________________________________________________\n"
          ],
          "name": "stdout"
        }
      ]
    },
    {
      "cell_type": "code",
      "metadata": {
        "id": "WEXous-TkzsQ"
      },
      "source": [
        "pltCallBack = PlotLossAccuracy()\r\n",
        "\r\n",
        "# and train\r\n",
        "history = model.fit(x_train, y_train,\r\n",
        "                    batch_size=4096, epochs=100, \r\n",
        "                    validation_data=(x_val, y_val), \r\n",
        "                    verbose=0)\r\n",
        "\r\n",
        "\r\n",
        "#callbacks=[pltCallBack]          "
      ],
      "execution_count": 59,
      "outputs": []
    },
    {
      "cell_type": "code",
      "metadata": {
        "id": "wuJsaU-gbQO9",
        "outputId": "9b596c34-ad40-47d8-9a93-290114ca3b32",
        "colab": {
          "base_uri": "https://localhost:8080/",
          "height": 591
        }
      },
      "source": [
        "print(history.history.keys())\r\n",
        "\r\n",
        "# summarize history for accuracy\r\n",
        "plt.plot(history.history['mean_absolute_error'])\r\n",
        "plt.plot(history.history['val_mean_absolute_error'])\r\n",
        "plt.title('model mean absolute error')\r\n",
        "plt.ylabel('mean abs error')\r\n",
        "plt.xlabel('epoch')\r\n",
        "plt.legend(['train', 'test'], loc='upper left')\r\n",
        "plt.show()\r\n",
        "# summarize history for loss\r\n",
        "plt.plot(history.history['loss'])\r\n",
        "plt.plot(history.history['val_loss'])\r\n",
        "plt.title('model loss')\r\n",
        "plt.ylabel('loss')\r\n",
        "plt.xlabel('epoch')\r\n",
        "plt.legend(['train', 'test'], loc='upper left')\r\n",
        "plt.show()"
      ],
      "execution_count": 60,
      "outputs": [
        {
          "output_type": "stream",
          "text": [
            "dict_keys(['loss', 'mean_absolute_error', 'val_loss', 'val_mean_absolute_error'])\n"
          ],
          "name": "stdout"
        },
        {
          "output_type": "display_data",
          "data": {
            "image/png": "[encoded data removed]",
            "text/plain": [
              "<Figure size 432x288 with 1 Axes>"
            ]
          },
          "metadata": {
            "tags": [],
            "needs_background": "light"
          }
        },
        {
          "output_type": "display_data",
          "data": {
            "image/png": "[encoded data removed]",
            "text/plain": [
              "<Figure size 432x288 with 1 Axes>"
            ]
          },
          "metadata": {
            "tags": [],
            "needs_background": "light"
          }
        }
      ]
    },
    {
      "cell_type": "code",
      "metadata": {
        "id": "zr5msBKHLQtb",
        "outputId": "747ca725-920b-45fa-8b69-a22b2e834e2c",
        "colab": {
          "base_uri": "https://localhost:8080/"
        }
      },
      "source": [
        "results = model.evaluate(x_test,y_test, verbose=1)\r\n",
        "#print(model.metrics_names[0] + \" : \" + str(results[0]) + \"\\n\" + model.metrics_names[1] + \" : \" + str(results[1]))"
      ],
      "execution_count": 70,
      "outputs": [
        {
          "output_type": "stream",
          "text": [
            "38/38 [==============================] - 0s 2ms/step - loss: 0.0181 - mean_absolute_error: 0.0691\n"
          ],
          "name": "stdout"
        }
      ]
    }
  ]
}