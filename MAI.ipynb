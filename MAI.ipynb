{
  "nbformat": 4,
  "nbformat_minor": 0,
  "metadata": {
    "colab": {
      "name": "MAI.ipynb",
      "provenance": [],
      "collapsed_sections": [],
      "toc_visible": true,
      "authorship_tag": "ABX9TyMe6Hza4llznwsZcnsR4Ukx",
      "include_colab_link": true
    },
    "kernelspec": {
      "name": "python3",
      "display_name": "Python 3"
    },
    "accelerator": "GPU"
  },
  "cells": [
    {
      "cell_type": "markdown",
      "metadata": {
        "id": "view-in-github",
        "colab_type": "text"
      },
      "source": [
        "<a href=\"https://colab.research.google.com/github/p-owens/MAI/blob/main/MAI.ipynb\" target=\"_parent\"><img src=\"https://colab.research.google.com/assets/colab-badge.svg\" alt=\"Open In Colab\"/></a>"
      ]
    },
    {
      "cell_type": "code",
      "metadata": {
        "id": "aEx4VxbzFM5a"
      },
      "source": [
        "import pandas as pd\r\n",
        "import tensorflow as tf\r\n",
        "from tensorflow import keras\r\n",
        "\r\n",
        "\r\n",
        "#borrowed form 5c16\r\n",
        "from keras import datasets\r\n",
        "from keras.layers import Dense, Flatten, Dropout, Activation\r\n",
        "from keras.regularizers import l2\r\n",
        "\r\n",
        "from keras.models import model_from_json\r\n",
        "\r\n",
        "from IPython.display import clear_output\r\n",
        "\r\n",
        "import numpy as np\r\n",
        "import matplotlib.pyplot as plt\r\n",
        "%matplotlib inline\r\n",
        "from matplotlib.ticker import MaxNLocator\r\n",
        "\r\n",
        "import pickle\r\n",
        "import sklearn as skl\r\n",
        "\r\n",
        "from sklearn import datasets, linear_model\r\n",
        "from sklearn.model_selection import cross_val_score"
      ],
      "execution_count": null,
      "outputs": []
    },
    {
      "cell_type": "code",
      "metadata": {
        "id": "gUaWQfvzF40O"
      },
      "source": [
        "# Define some useful functions\r\n",
        "class PlotLossAccuracy(keras.callbacks.Callback):\r\n",
        "    def on_train_begin(self, logs={}):\r\n",
        "        self.i = 0\r\n",
        "        self.x = []\r\n",
        "        self. = []\r\n",
        "        self.losses = []\r\n",
        "        self.val_losses = []\r\n",
        "        self.val_acc = []\r\n",
        "        self.logs = []\r\n",
        "        \r\n",
        "\r\n",
        "    def on_epoch_end(self, epoch, logs={}):\r\n",
        "        \r\n",
        "        self.logs.append(logs)\r\n",
        "        self.x.append(int(self.i))\r\n",
        "        self.losses.append(logs.get('loss'))\r\n",
        "        self.val_losses.append(logs.get('val_loss'))\r\n",
        "        self.acc.append(logs.get('acc'))\r\n",
        "        self.val_acc.append(logs.get('val_acc'))\r\n",
        "        \r\n",
        "        self.i += 1\r\n",
        "        \r\n",
        "        clear_output(wait=True)\r\n",
        "        plt.figure(figsize=(16, 6))\r\n",
        "        plt.plot([1, 2])\r\n",
        "        plt.subplot(121) \r\n",
        "        plt.plot(self.x, self.losses, label=\"train loss\")\r\n",
        "        plt.plot(self.x, self.val_losses, label=\"validation loss\")\r\n",
        "        plt.gca().xaxis.set_major_locator(MaxNLocator(integer=True))\r\n",
        "        plt.ylabel('loss')\r\n",
        "        plt.xlabel('epoch')\r\n",
        "        plt.title('Model Loss')\r\n",
        "        plt.legend()\r\n",
        "        plt.subplot(122)         \r\n",
        "        plt.plot(self.x, self.acc, label=\"training accuracy\")\r\n",
        "        plt.plot(self.x, self.val_acc, label=\"validation accuracy\")\r\n",
        "        plt.legend()\r\n",
        "        plt.ylabel('accuracy')\r\n",
        "        plt.xlabel('epoch')\r\n",
        "        plt.title('Model Accuracy')\r\n",
        "        plt.gca().xaxis.set_major_locator(MaxNLocator(integer=True))\r\n",
        "        plt.show();\r\n",
        "        \r\n",
        "        print(\"Training Accuracy: \", self.acc)\r\n",
        "        \r\n",
        "def save_model_to_disk():    \r\n",
        "    # save model and weights (don't change the filenames)\r\n",
        "    model_json = model.to_json()\r\n",
        "    with open(\"model.json\", \"w\") as json_file:\r\n",
        "        json_file.write(model_json)\r\n",
        "    # serialize weights to HDF5\r\n",
        "    model.save_weights(\"model.h5\")\r\n",
        "    print(\"Saved model to model.json and weights to model.h5\")"
      ],
      "execution_count": null,
      "outputs": []
    },
    {
      "cell_type": "code",
      "metadata": {
        "id": "CY7XJknsPN9f"
      },
      "source": [
        "#retreiving both datasets from GitHub\r\n",
        "git_xval = 'https://raw.githubusercontent.com/p-owens/MAI/main/x_val.csv'\r\n",
        "git_yval = 'https://raw.githubusercontent.com/p-owens/MAI/main/y_val.csv'\r\n",
        "df0 = pd.read_csv(git_xval,\r\n",
        "                index_col=False,\r\n",
        "                 header=None\r\n",
        "                 )\r\n",
        "df1 = pd.read_csv(git_yval,\r\n",
        "                index_col=False,\r\n",
        "                 header=None\r\n",
        "                 )"
      ],
      "execution_count": null,
      "outputs": []
    },
    {
      "cell_type": "code",
      "metadata": {
        "id": "mjHZuQeRggB2"
      },
      "source": [
        "x_values = df0.to_numpy()\r\n",
        "y_values = df1.to_numpy()\r\n",
        "\r\n",
        "#y_values = y_values[:,0]\r\n",
        "x_values = x_values[1::2,:]"
      ],
      "execution_count": 73,
      "outputs": []
    },
    {
      "cell_type": "code",
      "metadata": {
        "id": "H6SYFmT8b7Uf"
      },
      "source": [
        "#generate the test dataset\r\n",
        "x_rem, x_test, y_rem, y_test = skl.model_selection.train_test_split(x_values, y_values, test_size=.1, random_state=0)\r\n",
        "\r\n",
        "#generate the validation and training datasets\r\n",
        "x_train, x_val, y_train, y_val = skl.model_selection.train_test_split(x_rem, y_rem, test_size=.2, random_state=0)"
      ],
      "execution_count": 75,
      "outputs": []
    },
    {
      "cell_type": "code",
      "metadata": {
        "id": "hyF8oYzMF460",
        "colab": {
          "base_uri": "https://localhost:8080/"
        },
        "outputId": "03601530-c8f4-4dac-c618-745848e9091f"
      },
      "source": [
        "print(y_test.shape)\r\n",
        "print(x_test.shape)\r\n",
        "print(y_val.shape)\r\n",
        "print(x_val.shape)\r\n",
        "print(y_train.shape)\r\n",
        "print(x_train.shape)"
      ],
      "execution_count": 76,
      "outputs": [
        {
          "output_type": "stream",
          "text": [
            "(1198, 44)\n",
            "(1198, 44)\n",
            "(2155, 44)\n",
            "(2155, 44)\n",
            "(8619, 44)\n",
            "(8619, 44)\n"
          ],
          "name": "stdout"
        }
      ]
    },
    {
      "cell_type": "code",
      "metadata": {
        "colab": {
          "base_uri": "https://localhost:8080/"
        },
        "id": "1WkWK5ucepHI",
        "outputId": "725ef9a4-2763-46cb-b7aa-a71ba9b5c5b0"
      },
      "source": [
        "inputs = keras.layers.Input(shape=(44,))\r\n",
        "\r\n",
        "x = Dense(1056, activation='relu')(inputs)\r\n",
        "x = Dropout(0.45)(x) # Drop out random 2% to prevent overfitting\r\n",
        "x = Dense(1056, activation='linear')(x)\r\n",
        "x = Dropout(0.45)(x) # Drop out random 25% to prevent overfitting\r\n",
        "x = Dense(1056, activation='relu')(x)\r\n",
        "x = Dropout(0.45)(x) # Drop out random 2% to prevent overfitting\r\n",
        "x = Dense(528, activation='linear')(x)\r\n",
        "x = Dropout(0.45)(x) # Drop out random 25% to prevent overfitting\r\n",
        "predictions = Dense(44, activation='relu')(x)\r\n",
        "\r\n",
        "\r\n",
        "\r\n",
        "# we create the model \r\n",
        "model = keras.models.Model(inputs=inputs, outputs=predictions)\r\n",
        "opt = keras.optimizers.SGD(lr=0.02, decay=1e-6, momentum=0.99, nesterov=True)\r\n",
        "# opt = keras.optimizers.Adadelta()\r\n",
        "\r\n",
        "# setup the optimisation strategy\r\n",
        "model.compile(optimizer=opt,\r\n",
        "              loss='mean_squared_error',\r\n",
        "              metrics=[tf.keras.metrics.MeanAbsoluteError()])\r\n",
        "\r\n",
        "\r\n",
        "model.summary()"
      ],
      "execution_count": 99,
      "outputs": [
        {
          "output_type": "stream",
          "text": [
            "Model: \"model_8\"\n",
            "_________________________________________________________________\n",
            "Layer (type)                 Output Shape              Param #   \n",
            "=================================================================\n",
            "input_9 (InputLayer)         [(None, 44)]              0         \n",
            "_________________________________________________________________\n",
            "dense_40 (Dense)             (None, 1056)              47520     \n",
            "_________________________________________________________________\n",
            "dropout_32 (Dropout)         (None, 1056)              0         \n",
            "_________________________________________________________________\n",
            "dense_41 (Dense)             (None, 1056)              1116192   \n",
            "_________________________________________________________________\n",
            "dropout_33 (Dropout)         (None, 1056)              0         \n",
            "_________________________________________________________________\n",
            "dense_42 (Dense)             (None, 1056)              1116192   \n",
            "_________________________________________________________________\n",
            "dropout_34 (Dropout)         (None, 1056)              0         \n",
            "_________________________________________________________________\n",
            "dense_43 (Dense)             (None, 528)               558096    \n",
            "_________________________________________________________________\n",
            "dropout_35 (Dropout)         (None, 528)               0         \n",
            "_________________________________________________________________\n",
            "dense_44 (Dense)             (None, 44)                23276     \n",
            "=================================================================\n",
            "Total params: 2,861,276\n",
            "Trainable params: 2,861,276\n",
            "Non-trainable params: 0\n",
            "_________________________________________________________________\n"
          ],
          "name": "stdout"
        }
      ]
    },
    {
      "cell_type": "code",
      "metadata": {
        "id": "WEXous-TkzsQ"
      },
      "source": [
        "pltCallBack = PlotLossAccuracy()\r\n",
        "\r\n",
        "# and train\r\n",
        "history = model.fit(x_train, y_train,\r\n",
        "                    batch_size=4096, epochs=500, \r\n",
        "                    validation_data=(x_val, y_val), \r\n",
        "                    callbacks=[pltCallBack])\r\n",
        "\r\n",
        "\r\n",
        "#callbacks=[pltCallBack]          "
      ],
      "execution_count": 98,
      "outputs": []
    },
    {
      "cell_type": "code",
      "metadata": {
        "id": "wuJsaU-gbQO9",
        "colab": {
          "base_uri": "https://localhost:8080/",
          "height": 591
        },
        "outputId": "dc1429aa-1aea-406a-9005-3224de26bb6f"
      },
      "source": [
        "print(history.history.keys())\r\n",
        "\r\n",
        "# summarize history for accuracy\r\n",
        "plt.plot(history.history['mean_absolute_error'])\r\n",
        "plt.plot(history.history['val_mean_absolute_error'])\r\n",
        "plt.title('model mean absolute error')\r\n",
        "plt.ylabel('mean abs error')\r\n",
        "plt.xlabel('epoch')\r\n",
        "plt.legend(['train', 'test'], loc='upper left')\r\n",
        "plt.show()\r\n",
        "# summarize history for loss\r\n",
        "plt.plot(history.history['loss'])\r\n",
        "plt.plot(history.history['val_loss'])\r\n",
        "plt.title('model loss')\r\n",
        "plt.ylabel('loss')\r\n",
        "plt.xlabel('epoch')\r\n",
        "plt.legend(['train', 'test'], loc='upper left')\r\n",
        "plt.show()"
      ],
      "execution_count": 96,
      "outputs": [
        {
          "output_type": "stream",
          "text": [
            "dict_keys(['loss', 'mean_absolute_error', 'val_loss', 'val_mean_absolute_error'])\n"
          ],
          "name": "stdout"
        },
        {
          "output_type": "display_data",
          "data": {
            "image/png": "[encoded data removed]",
            "text/plain": [
              "<Figure size 432x288 with 1 Axes>"
            ]
          },
          "metadata": {
            "tags": [],
            "needs_background": "light"
          }
        },
        {
          "output_type": "display_data",
          "data": {
            "image/png": "[encoded data removed]",
            "text/plain": [
              "<Figure size 432x288 with 1 Axes>"
            ]
          },
          "metadata": {
            "tags": [],
            "needs_background": "light"
          }
        }
      ]
    },
    {
      "cell_type": "code",
      "metadata": {
        "id": "zr5msBKHLQtb",
        "colab": {
          "base_uri": "https://localhost:8080/"
        },
        "outputId": "747ca725-920b-45fa-8b69-a22b2e834e2c"
      },
      "source": [
        "results = model.evaluate(x_test,y_test, verbose=1)\r\n",
        "#print(model.metrics_names[0] + \" : \" + str(results[0]) + \"\\n\" + model.metrics_names[1] + \" : \" + str(results[1]))"
      ],
      "execution_count": null,
      "outputs": [
        {
          "output_type": "stream",
          "text": [
            "38/38 [==============================] - 0s 2ms/step - loss: 0.0181 - mean_absolute_error: 0.0691\n"
          ],
          "name": "stdout"
        }
      ]
    }
  ]
}