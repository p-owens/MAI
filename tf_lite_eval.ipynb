{
  "nbformat": 4,
  "nbformat_minor": 0,
  "metadata": {
    "colab": {
      "name": "tf_lite_eval.ipynb",
      "provenance": [],
      "authorship_tag": "ABX9TyM/DOAMKhO6OEj0JrMJ3z3B",
      "include_colab_link": true
    },
    "kernelspec": {
      "name": "python3",
      "display_name": "Python 3"
    }
  },
  "cells": [
    {
      "cell_type": "markdown",
      "metadata": {
        "id": "view-in-github",
        "colab_type": "text"
      },
      "source": [
        "<a href=\"https://colab.research.google.com/github/p-owens/MAI/blob/main/tf_lite_eval.ipynb\" target=\"_parent\"><img src=\"https://colab.research.google.com/assets/colab-badge.svg\" alt=\"Open In Colab\"/></a>"
      ]
    },
    {
      "cell_type": "code",
      "metadata": {
        "id": "NGKOwx1X9V0M"
      },
      "source": [
        "import numpy as np \n",
        "import tensorflow as tf\n",
        "\n",
        "\n",
        "#loading a previously saved tflite model for evaluation\n",
        "model_name = \"tfl_ch36_pct_err4.05_comp0.95.tflite\"\n",
        "interpreter = tf.lite.Interpreter(model_path=model_name)\n",
        "\n",
        "interpreter = tf.lite.Interpreter(model_content=quantized_and_pruned_tflite_model)\n",
        "interpreter.allocate_tensors()\n",
        "input_index = interpreter.get_input_details()[0][\"index\"]\n",
        "output_index = interpreter.get_output_details()[0][\"index\"]\n",
        "\n",
        "  # Run predictions on ever y image in the \"test\" dataset.\n",
        "y_pred = []\n",
        "for test in (x_test):\n",
        "  # Pre-processing: add batch dimension and convert to float32 to match with\n",
        "  # the model's input data format.\n",
        "  test = np.expand_dims(test, axis=0).astype(np.float32)\n",
        "  interpreter.set_tensor(input_index, test)\n",
        "\n",
        "  # Run inference.\n",
        "  interpreter.invoke()\n",
        "\n",
        "  prediction = interpreter.get_tensor(output_index)[0][0]\n",
        "  y_pred.append(prediction)\n",
        "\n",
        "#return mean absolute percentage error\n",
        "y_pred = np.array(y_pred)\n",
        "mse = tf.keras.losses.MeanAbsolutePercentageError()                                 #tf.keras.losses.MeanSquaredError()\n",
        "print(\"Model percent error: {:.2f}%\".format(mse(y_test, y_pred).numpy()))\n"
      ],
      "execution_count": null,
      "outputs": []
    }
  ]
}