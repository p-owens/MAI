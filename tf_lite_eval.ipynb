{
  "nbformat": 4,
  "nbformat_minor": 0,
  "metadata": {
    "colab": {
      "name": "tf_lite_eval.ipynb",
      "provenance": [],
      "authorship_tag": "ABX9TyODbnWOMMr5hJ1eOyVm4LJ3",
      "include_colab_link": true
    },
    "kernelspec": {
      "name": "python3",
      "display_name": "Python 3"
    }
  },
  "cells": [
    {
      "cell_type": "markdown",
      "metadata": {
        "id": "view-in-github",
        "colab_type": "text"
      },
      "source": [
        "<a href=\"https://colab.research.google.com/github/p-owens/MAI/blob/main/tf_lite_eval.ipynb\" target=\"_parent\"><img src=\"https://colab.research.google.com/assets/colab-badge.svg\" alt=\"Open In Colab\"/></a>"
      ]
    },
    {
      "cell_type": "code",
      "metadata": {
        "id": "EikU2hgY-F25"
      },
      "source": [
        "import numpy as np \n",
        "import tensorflow as tf\n",
        "import pandas as pd"
      ],
      "execution_count": 6,
      "outputs": []
    },
    {
      "cell_type": "code",
      "metadata": {
        "id": "JX6TvI6A9_LT"
      },
      "source": [
        "model_name = \"tfl_ch36_pct_err4.05_comp0.95.tflite\"\n",
        "channel = 36"
      ],
      "execution_count": 7,
      "outputs": []
    },
    {
      "cell_type": "code",
      "metadata": {
        "id": "EMTs7ojY-MmE"
      },
      "source": [
        "ch_names = np.arange(44).tolist()\n",
        "freqs = np.arange(191.6, 195.9, 0.1).tolist()\n",
        "for x in range(len(ch_names)):\n",
        "  ch_names[x] = \"Ch %.0f (%.1f)\" % (ch_names[x], freqs[x])"
      ],
      "execution_count": 8,
      "outputs": []
    },
    {
      "cell_type": "code",
      "metadata": {
        "id": "CcGqUPRx97uU"
      },
      "source": [
        "#Using a dataset with 1 ch constantly on for the test set\n",
        "#retreiving both datasets from GitHub\n",
        "\n",
        "\n",
        "\n",
        "git_xval = ('https://raw.githubusercontent.com/p-owens/MAI/main/const_ch/new_model/test_set/ch{0}/x_val.csv'.format(channel))\n",
        "git_yval = ('https://raw.githubusercontent.com/p-owens/MAI/main/const_ch/new_model/test_set/ch{0}/y_val.csv'.format(channel))\n",
        "dfx = pd.read_csv(git_xval,\n",
        "                  index_col=False,\n",
        "                  header=None,\n",
        "                  names=ch_names                                   \n",
        "                 )\n",
        "dfy = pd.read_csv(git_yval,\n",
        "                  index_col=False,\n",
        "                  header=None,\n",
        "                  names=ch_names\n",
        "                 )\n",
        "\n",
        "#dropping the frequences row for each training sample\n",
        "dfx = dfx.iloc[1::2]\n",
        "\n",
        "#drop all rows where df_x has a value != 0\n",
        "dfx = dfx[dfx[ch_names[channel]] !=0]\n",
        "dfy = dfy[dfy[ch_names[channel]] !=0]\n",
        "dfy = dfy[ch_names[channel]]\n",
        "\n",
        "x_test = dfx.to_numpy()\n",
        "y_test = dfy.to_numpy()"
      ],
      "execution_count": 9,
      "outputs": []
    },
    {
      "cell_type": "code",
      "metadata": {
        "id": "NGKOwx1X9V0M",
        "colab": {
          "base_uri": "https://localhost:8080/"
        },
        "outputId": "c93136e1-8042-4ea0-91a0-0991a1fb4139"
      },
      "source": [
        "#loading a previously saved tflite model for evaluation\n",
        "interpreter = tf.lite.Interpreter(model_path=model_name)\n",
        "\n",
        "interpreter.allocate_tensors()\n",
        "input_index = interpreter.get_input_details()[0][\"index\"]\n",
        "output_index = interpreter.get_output_details()[0][\"index\"]\n",
        "\n",
        "  # Run predictions on ever y image in the \"test\" dataset.\n",
        "y_pred = []\n",
        "for test in (x_test):\n",
        "  # Pre-processing: add batch dimension and convert to float32 to match with\n",
        "  # the model's input data format.\n",
        "  test = np.expand_dims(test, axis=0).astype(np.float32)\n",
        "  interpreter.set_tensor(input_index, test)\n",
        "\n",
        "  # Run inference.\n",
        "  interpreter.invoke()\n",
        "\n",
        "  prediction = interpreter.get_tensor(output_index)[0][0]\n",
        "  y_pred.append(prediction)\n",
        "\n",
        "#return mean absolute percentage error\n",
        "y_pred = np.array(y_pred)\n",
        "mse = tf.keras.losses.MeanAbsolutePercentageError()                                 #tf.keras.losses.MeanSquaredError()\n",
        "print(\"Model percent error: {:.2f}%\".format(mse(y_test, y_pred).numpy()))\n"
      ],
      "execution_count": 11,
      "outputs": [
        {
          "output_type": "stream",
          "text": [
            "Model percent error: 4.05%\n"
          ],
          "name": "stdout"
        }
      ]
    }
  ]
}