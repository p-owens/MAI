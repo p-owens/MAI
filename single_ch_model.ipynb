{
  "nbformat": 4,
  "nbformat_minor": 0,
  "metadata": {
    "colab": {
      "name": "Untitled6.ipynb",
      "provenance": [],
      "collapsed_sections": []
    },
    "kernelspec": {
      "name": "python3",
      "display_name": "Python 3"
    }
  },
  "cells": [
    {
      "cell_type": "markdown",
      "metadata": {
        "id": "H1ZGNt-eHmeG"
      },
      "source": [
        "Notebook used to train models"
      ]
    },
    {
      "cell_type": "code",
      "metadata": {
        "id": "7AD_4d2MnvNR"
      },
      "source": [
        "#allow file access\n",
        "from google.colab import files\n",
        "\n",
        "from tensorflow.keras.models import load_model\n",
        "\n",
        "import pickle\n",
        "\n",
        "#import shap  \n",
        "#import shap\n",
        "#shap.initjs()\n",
        "\n",
        "import pandas as pd\n",
        "import tensorflow as tf\n",
        "#tf.compat.v1.disable_v2_behavior() #this was required for SHAP values\n",
        "#possibly worth using the below \n",
        "#tf.compat.v1.enable_eager_executionconfig=None, device_policy=None, execution_mode=None)\n",
        "from tensorflow import keras\n",
        "\n",
        "\n",
        "#borrowed form 5c16\n",
        "from keras import datasets\n",
        "from keras.layers import Dense, Flatten, Dropout, Activation\n",
        "from keras.regularizers import l2\n",
        "from keras.callbacks import ModelCheckpoint\n",
        "\n",
        "from keras.models import model_from_json\n",
        "\n",
        "from tensorflow.keras.callbacks import CSVLogger\n",
        "\n",
        "from IPython.display import clear_output\n",
        "\n",
        "import numpy as np\n",
        "import matplotlib.pyplot as plt\n",
        "%matplotlib inline\n",
        "from matplotlib.ticker import MaxNLocator\n",
        "\n",
        "import pickle\n",
        "import sklearn as skl\n",
        "\n",
        "#r2 score\n",
        "#from keras import backend as K\n",
        "import tensorflow.keras.backend as K\n",
        "from sklearn.metrics import r2_score\n",
        "\n",
        "from sklearn import datasets, linear_model\n",
        "from sklearn.model_selection import cross_val_score\n",
        "\n",
        "#model optimisation api\n",
        "#import tensorflow_model_optimization as tfmot\n",
        "\n",
        "import tempfile\n",
        "import os\n",
        "import zipfile\n",
        "\n",
        "%load_ext tensorboard\n",
        "\n",
        "from tabulate import tabulate"
      ],
      "execution_count": 2,
      "outputs": []
    },
    {
      "cell_type": "code",
      "metadata": {
        "id": "gUaWQfvzF40O"
      },
      "source": [
        "# Define some useful functions\r\n",
        "class PlotLossAccuracy(keras.callbacks.Callback):\r\n",
        "    def on_train_begin(self, logs={}):\r\n",
        "        self.i = 0\r\n",
        "        self.x = []\r\n",
        "        self.acc = []\r\n",
        "        self.losses = []\r\n",
        "        self.val_losses = []\r\n",
        "        self.val_acc = []\r\n",
        "        self.logs = []\r\n",
        "        self.metrics = []\r\n",
        "        self.val_metrics = []\r\n",
        "        \r\n",
        "\r\n",
        "    def on_epoch_end(self, epoch, logs={}):\r\n",
        "        \r\n",
        "        self.logs.append(logs)\r\n",
        "        self.x.append(int(self.i))\r\n",
        "        self.losses.append(logs.get('loss'))\r\n",
        "        self.val_losses.append(logs.get('val_loss'))\r\n",
        "        self.acc.append(logs.get('r_squared'))\r\n",
        "        self.val_acc.append(logs.get('val_r_squared'))\r\n",
        "        ###\r\n",
        "        self.metrics.append(logs.get('mean_absolute_percentage_error'))         #mean_squared_error\r\n",
        "        self.val_metrics.append(logs.get('val_mean_absolute_percentage_error')) #val_mean_squared_error\r\n",
        "        \r\n",
        "        \r\n",
        "        self.i += 1\r\n",
        "        \r\n",
        "        clear_output(wait=True)\r\n",
        "        plt.figure(figsize=(60, 20))\r\n",
        "        plt.plot([3, 1])\r\n",
        "\r\n",
        "        #plot 1 mean absolute percentage error\r\n",
        "        plt.subplot(131) \r\n",
        "        plt.plot(self.x, self.losses, label=\"train loss\")\r\n",
        "        plt.plot(self.x, self.val_losses, label=\"validation loss\")\r\n",
        "        plt.gca().xaxis.set_major_locator(MaxNLocator(integer=True))\r\n",
        "        plt.ylabel('Mse')\r\n",
        "        plt.xlabel('epoch')\r\n",
        "        plt.title('MSE Value')\r\n",
        "        plt.legend()\r\n",
        "\r\n",
        "        #plot 2 r squared value\r\n",
        "        plt.subplot(133)         \r\n",
        "        plt.plot(self.x, self.acc, label=\"training r-squared\")\r\n",
        "        plt.plot(self.x, self.val_acc, label=\"validation r-squared\")\r\n",
        "        plt.legend()\r\n",
        "        plt.gca().xaxis.set_major_locator(MaxNLocator(integer=True))\r\n",
        "        plt.ylabel('R-squared')\r\n",
        "        plt.xlabel('epoch')\r\n",
        "        plt.title('R-Squared Value')\r\n",
        "\r\n",
        "        #plot 3 mean squared error\r\n",
        "        plt.subplot(132)         \r\n",
        "        plt.plot(self.x, self.metrics, label=\"training mse\")\r\n",
        "        plt.plot(self.x, self.val_metrics, label=\"validation mse\")\r\n",
        "        plt.legend()\r\n",
        "        plt.ylabel('Mean absolute percentage Error')\r\n",
        "        plt.xlabel('epoch')\r\n",
        "        plt.title('Mean absolute percentage Error')\r\n",
        "        \r\n",
        "        plt.gca().xaxis.set_major_locator(MaxNLocator(integer=True))\r\n",
        "        plt.show();\r\n",
        "        \r\n",
        "\r\n",
        "#creating a r^2 metric for the model evaluation\r\n",
        "def r_squared(y_true, y_pred):\r\n",
        "    SS_res =  K.sum(K.square( y_true-y_pred )) \r\n",
        "    SS_tot = K.sum(K.square( y_true - K.mean(y_true) ) ) \r\n",
        "    return ( 1 - SS_res/(SS_tot + K.epsilon()) )\r\n",
        "\r\n",
        "    "
      ],
      "execution_count": 3,
      "outputs": []
    },
    {
      "cell_type": "code",
      "metadata": {
        "id": "S1n0YwZjAbhz"
      },
      "source": [
        "ch_names = np.arange(44).tolist()\n",
        "freqs = np.arange(191.6, 195.9, 0.1).tolist()\n",
        "for x in range(len(ch_names)):\n",
        "  ch_names[x] = \"Ch %.0f (%.1f)\" % (ch_names[x], freqs[x])"
      ],
      "execution_count": 4,
      "outputs": []
    },
    {
      "cell_type": "code",
      "metadata": {
        "id": "CY7XJknsPN9f"
      },
      "source": [
        "#generate the train and testing datasets\r\n",
        "#retreiving both datasets from GitHub\r\n",
        "git_xval = 'https://raw.githubusercontent.com/p-owens/MAI/main/x_val.csv'\r\n",
        "git_yval = 'https://raw.githubusercontent.com/p-owens/MAI/main/y_val.csv'\r\n",
        "df_x = pd.read_csv(git_xval,\r\n",
        "                  index_col=False,\r\n",
        "                  header=None,\r\n",
        "                  names=ch_names)\r\n",
        "\r\n",
        "df_y = pd.read_csv(git_yval,\r\n",
        "                  index_col=False,\r\n",
        "                  header=None,\r\n",
        "                  names=ch_names)\r\n",
        "\r\n",
        "#dropping the frequences row for each training sample\r\n",
        "df_x = df_x.iloc[1::2]\r\n",
        "#print(df_x)"
      ],
      "execution_count": 11,
      "outputs": []
    },
    {
      "cell_type": "code",
      "metadata": {
        "id": "IGsMjMl3rWJ1"
      },
      "source": [
        "#select a channel to operate on\n",
        "ch = 39"
      ],
      "execution_count": 7,
      "outputs": []
    },
    {
      "cell_type": "code",
      "metadata": {
        "id": "1bLhf7cnrlsD"
      },
      "source": [
        "#drop all rows where df_x has a value != 0\n",
        "df_chx = df_x[df_x[ch_names[ch]] !=0]\n",
        "df_chy = df_y[df_y[ch_names[ch]] !=0]\n",
        "df_chy = df_chy[ch_names[ch]]\n",
        "\n",
        "#convert to numpy arrays\n",
        "x_values = df_chx.to_numpy()\n",
        "y_values = df_chy.to_numpy()\n",
        "\n",
        "\n",
        "val_split = .2\n",
        "\n",
        "#generate the test/validation split\n",
        "#x_rem, x_test, y_rem, y_test = skl.model_selection.train_test_split(x_values, y_values, test_size=.2, random_state=0)\n",
        "x_train, x_val, y_train, y_val = skl.model_selection.train_test_split(x_values, y_values, test_size = val_split, random_state = 0)#renaimed x_rem and y_rem to x_values and y_values\n"
      ],
      "execution_count": 12,
      "outputs": []
    },
    {
      "cell_type": "code",
      "metadata": {
        "colab": {
          "base_uri": "https://localhost:8080/"
        },
        "id": "au5rNuMj5Lb3",
        "outputId": "ad002cbb-6076-4b1a-cac5-9bcb53be596f"
      },
      "source": [
        "print(y_train[30:75])"
      ],
      "execution_count": 13,
      "outputs": [
        {
          "output_type": "stream",
          "text": [
            "[ 7.34257874  5.97724146  8.65406006  6.42952873  7.60681135  7.16922936\n",
            "  7.83781312  7.07160091  6.84364594  6.93991575  6.95120228  6.34390264\n",
            "  4.96305588  7.12814705  7.09835973  7.34302169  5.6246438   6.78172137\n",
            "  6.79042404  6.51512424  6.98634427 11.74410823  7.15268973  6.87408565\n",
            "  6.98634427  7.34605956  9.29018874  7.12661317  6.99457008  5.00767038\n",
            "  5.90024723  5.99097367  7.84145159  7.36429496  6.29340745  6.8040521\n",
            "  9.00700699  8.76849208  7.76431772  5.2859368   4.20502545  6.54296004\n",
            "  7.0579357   6.92478924  7.30788245]\n"
          ],
          "name": "stdout"
        }
      ]
    },
    {
      "cell_type": "code",
      "metadata": {
        "colab": {
          "base_uri": "https://localhost:8080/"
        },
        "id": "1WkWK5ucepHI",
        "outputId": "f4a8ede3-3945-4807-b226-869e55a68456"
      },
      "source": [
        "#create the models\r\n",
        "inputs = keras.layers.Input(shape=(44,))\r\n",
        "\r\n",
        "\r\n",
        "x = Dense(360, activation='relu')(inputs)\r\n",
        "x = Dropout(0.45)(x) # Drop out\r\n",
        "x = Dense(180, activation='linear')(x)\r\n",
        "x = Dropout(0.45)(x) # Drop out\r\n",
        "x = Dense(180, activation='relu')(x)\r\n",
        "x = Dropout(0.45)(x) # Drop out \r\n",
        "x = Dense(90, activation='linear')(x)\r\n",
        "x = Dropout(0.4)(x) # Drop out\r\n",
        "x = Dense(45, activation='relu')(x)\r\n",
        "x = Dropout(0.2)(x) # Drop out \r\n",
        "predictions = Dense(1, activation='relu')(x)\r\n",
        "\r\n",
        "l_rate = 1 * 1e-4\r\n",
        "\r\n",
        "# we create the model \r\n",
        "model = keras.models.Model(inputs=inputs, outputs=predictions)\r\n",
        "opt = tf.keras.optimizers.Nadam(learning_rate=l_rate)\r\n",
        "\r\n",
        "# setup the optimisation strategy\r\n",
        "model.compile(optimizer=opt,\r\n",
        "              loss='mean_squared_error',      #formerly mean_absolute_percentage_error\r\n",
        "              metrics=[r_squared, tf.keras.metrics.MeanAbsolutePercentageError()]) #tf.keras.metrics.MeanAbsolutePercentageError()\r\n",
        "\r\n",
        "\r\n",
        "model.summary()"
      ],
      "execution_count": 21,
      "outputs": [
        {
          "output_type": "stream",
          "text": [
            "Model: \"model_2\"\n",
            "_________________________________________________________________\n",
            "Layer (type)                 Output Shape              Param #   \n",
            "=================================================================\n",
            "input_3 (InputLayer)         [(None, 44)]              0         \n",
            "_________________________________________________________________\n",
            "dense_12 (Dense)             (None, 360)               16200     \n",
            "_________________________________________________________________\n",
            "dropout_10 (Dropout)         (None, 360)               0         \n",
            "_________________________________________________________________\n",
            "dense_13 (Dense)             (None, 180)               64980     \n",
            "_________________________________________________________________\n",
            "dropout_11 (Dropout)         (None, 180)               0         \n",
            "_________________________________________________________________\n",
            "dense_14 (Dense)             (None, 180)               32580     \n",
            "_________________________________________________________________\n",
            "dropout_12 (Dropout)         (None, 180)               0         \n",
            "_________________________________________________________________\n",
            "dense_15 (Dense)             (None, 90)                16290     \n",
            "_________________________________________________________________\n",
            "dropout_13 (Dropout)         (None, 90)                0         \n",
            "_________________________________________________________________\n",
            "dense_16 (Dense)             (None, 45)                4095      \n",
            "_________________________________________________________________\n",
            "dropout_14 (Dropout)         (None, 45)                0         \n",
            "_________________________________________________________________\n",
            "dense_17 (Dense)             (None, 1)                 46        \n",
            "=================================================================\n",
            "Total params: 134,191\n",
            "Trainable params: 134,191\n",
            "Non-trainable params: 0\n",
            "_________________________________________________________________\n"
          ],
          "name": "stdout"
        }
      ]
    },
    {
      "cell_type": "code",
      "metadata": {
        "id": "WEXous-TkzsQ",
        "colab": {
          "base_uri": "https://localhost:8080/",
          "height": 380
        },
        "outputId": "9b8b9b0d-84e2-478c-8ee9-3e777104ba4e"
      },
      "source": [
        "#callback for plotting the model metrics\r\n",
        "\r\n",
        "path = 'model_checkpoints/ch_{0}_'.format(ch)\r\n",
        "log_file = 'model_ch_{0}.csv'.format(ch)\r\n",
        "csv_log = CSVLogger(log_file)\r\n",
        "\r\n",
        "pltCallBack = PlotLossAccuracy()\r\n",
        "#callback for saving the model\r\n",
        "checkpoint = ModelCheckpoint(filepath= path + 'ep_{epoch:02d}_mse_{val_loss:.2f}_pct_err_{val_mean_absolute_percentage_error:.2f}.h5',\r\n",
        "                             monitor='val_loss',\r\n",
        "                             verbose=0,\r\n",
        "                             save_weights_only=False,\r\n",
        "                             save_best_only=True,\r\n",
        "                             mode='min',\r\n",
        "                             save_freq=\"epoch\")\r\n",
        "\r\n",
        "batchSize = 400\r\n",
        "\r\n",
        "# and train\r\n",
        "model.fit(x_train, y_train,\r\n",
        "                    batch_size=batchSize, epochs=200,   #500 ephocs gives ~ 5% error\r\n",
        "                    validation_data=(x_val, y_val), \r\n",
        "                    callbacks=[pltCallBack, checkpoint, csv_log])"
      ],
      "execution_count": 23,
      "outputs": [
        {
          "output_type": "error",
          "ename": "KeyboardInterrupt",
          "evalue": "ignored",
          "traceback": [
            "\u001b[0;31m---------------------------------------------------------------------------\u001b[0m",
            "\u001b[0;31mKeyboardInterrupt\u001b[0m                         Traceback (most recent call last)",
            "\u001b[0;32m<ipython-input-23-59bca6ba498f>\u001b[0m in \u001b[0;36m<module>\u001b[0;34m()\u001b[0m\n\u001b[1;32m     21\u001b[0m                     \u001b[0mbatch_size\u001b[0m\u001b[0;34m=\u001b[0m\u001b[0mbatchSize\u001b[0m\u001b[0;34m,\u001b[0m \u001b[0mepochs\u001b[0m\u001b[0;34m=\u001b[0m\u001b[0;36m200\u001b[0m\u001b[0;34m,\u001b[0m   \u001b[0;31m#500 ephocs gives ~ 5% error\u001b[0m\u001b[0;34m\u001b[0m\u001b[0;34m\u001b[0m\u001b[0m\n\u001b[1;32m     22\u001b[0m                     \u001b[0mvalidation_data\u001b[0m\u001b[0;34m=\u001b[0m\u001b[0;34m(\u001b[0m\u001b[0mx_val\u001b[0m\u001b[0;34m,\u001b[0m \u001b[0my_val\u001b[0m\u001b[0;34m)\u001b[0m\u001b[0;34m,\u001b[0m\u001b[0;34m\u001b[0m\u001b[0;34m\u001b[0m\u001b[0m\n\u001b[0;32m---> 23\u001b[0;31m                     callbacks=[pltCallBack, checkpoint, csv_log])\n\u001b[0m",
            "\u001b[0;32m/usr/local/lib/python3.6/dist-packages/tensorflow/python/keras/engine/training.py\u001b[0m in \u001b[0;36mfit\u001b[0;34m(self, x, y, batch_size, epochs, verbose, callbacks, validation_split, validation_data, shuffle, class_weight, sample_weight, initial_epoch, steps_per_epoch, validation_steps, validation_batch_size, validation_freq, max_queue_size, workers, use_multiprocessing)\u001b[0m\n\u001b[1;32m   1143\u001b[0m           \u001b[0mepoch_logs\u001b[0m\u001b[0;34m.\u001b[0m\u001b[0mupdate\u001b[0m\u001b[0;34m(\u001b[0m\u001b[0mval_logs\u001b[0m\u001b[0;34m)\u001b[0m\u001b[0;34m\u001b[0m\u001b[0;34m\u001b[0m\u001b[0m\n\u001b[1;32m   1144\u001b[0m \u001b[0;34m\u001b[0m\u001b[0m\n\u001b[0;32m-> 1145\u001b[0;31m         \u001b[0mcallbacks\u001b[0m\u001b[0;34m.\u001b[0m\u001b[0mon_epoch_end\u001b[0m\u001b[0;34m(\u001b[0m\u001b[0mepoch\u001b[0m\u001b[0;34m,\u001b[0m \u001b[0mepoch_logs\u001b[0m\u001b[0;34m)\u001b[0m\u001b[0;34m\u001b[0m\u001b[0;34m\u001b[0m\u001b[0m\n\u001b[0m\u001b[1;32m   1146\u001b[0m         \u001b[0mtraining_logs\u001b[0m \u001b[0;34m=\u001b[0m \u001b[0mepoch_logs\u001b[0m\u001b[0;34m\u001b[0m\u001b[0;34m\u001b[0m\u001b[0m\n\u001b[1;32m   1147\u001b[0m         \u001b[0;32mif\u001b[0m \u001b[0mself\u001b[0m\u001b[0;34m.\u001b[0m\u001b[0mstop_training\u001b[0m\u001b[0;34m:\u001b[0m\u001b[0;34m\u001b[0m\u001b[0;34m\u001b[0m\u001b[0m\n",
            "\u001b[0;32m/usr/local/lib/python3.6/dist-packages/tensorflow/python/keras/callbacks.py\u001b[0m in \u001b[0;36mon_epoch_end\u001b[0;34m(self, epoch, logs)\u001b[0m\n\u001b[1;32m    430\u001b[0m         \u001b[0;32mif\u001b[0m \u001b[0mnumpy_logs\u001b[0m \u001b[0;32mis\u001b[0m \u001b[0;32mNone\u001b[0m\u001b[0;34m:\u001b[0m  \u001b[0;31m# Only convert once.\u001b[0m\u001b[0;34m\u001b[0m\u001b[0;34m\u001b[0m\u001b[0m\n\u001b[1;32m    431\u001b[0m           \u001b[0mnumpy_logs\u001b[0m \u001b[0;34m=\u001b[0m \u001b[0mtf_utils\u001b[0m\u001b[0;34m.\u001b[0m\u001b[0mto_numpy_or_python_type\u001b[0m\u001b[0;34m(\u001b[0m\u001b[0mlogs\u001b[0m\u001b[0;34m)\u001b[0m\u001b[0;34m\u001b[0m\u001b[0;34m\u001b[0m\u001b[0m\n\u001b[0;32m--> 432\u001b[0;31m         \u001b[0mcallback\u001b[0m\u001b[0;34m.\u001b[0m\u001b[0mon_epoch_end\u001b[0m\u001b[0;34m(\u001b[0m\u001b[0mepoch\u001b[0m\u001b[0;34m,\u001b[0m \u001b[0mnumpy_logs\u001b[0m\u001b[0;34m)\u001b[0m\u001b[0;34m\u001b[0m\u001b[0;34m\u001b[0m\u001b[0m\n\u001b[0m\u001b[1;32m    433\u001b[0m \u001b[0;34m\u001b[0m\u001b[0m\n\u001b[1;32m    434\u001b[0m   \u001b[0;32mdef\u001b[0m \u001b[0mon_train_batch_begin\u001b[0m\u001b[0;34m(\u001b[0m\u001b[0mself\u001b[0m\u001b[0;34m,\u001b[0m \u001b[0mbatch\u001b[0m\u001b[0;34m,\u001b[0m \u001b[0mlogs\u001b[0m\u001b[0;34m=\u001b[0m\u001b[0;32mNone\u001b[0m\u001b[0;34m)\u001b[0m\u001b[0;34m:\u001b[0m\u001b[0;34m\u001b[0m\u001b[0;34m\u001b[0m\u001b[0m\n",
            "\u001b[0;32m<ipython-input-3-addf44676cb6>\u001b[0m in \u001b[0;36mon_epoch_end\u001b[0;34m(self, epoch, logs)\u001b[0m\n\u001b[1;32m     62\u001b[0m \u001b[0;34m\u001b[0m\u001b[0m\n\u001b[1;32m     63\u001b[0m         \u001b[0mplt\u001b[0m\u001b[0;34m.\u001b[0m\u001b[0mgca\u001b[0m\u001b[0;34m(\u001b[0m\u001b[0;34m)\u001b[0m\u001b[0;34m.\u001b[0m\u001b[0mxaxis\u001b[0m\u001b[0;34m.\u001b[0m\u001b[0mset_major_locator\u001b[0m\u001b[0;34m(\u001b[0m\u001b[0mMaxNLocator\u001b[0m\u001b[0;34m(\u001b[0m\u001b[0minteger\u001b[0m\u001b[0;34m=\u001b[0m\u001b[0;32mTrue\u001b[0m\u001b[0;34m)\u001b[0m\u001b[0;34m)\u001b[0m\u001b[0;34m\u001b[0m\u001b[0;34m\u001b[0m\u001b[0m\n\u001b[0;32m---> 64\u001b[0;31m         \u001b[0mplt\u001b[0m\u001b[0;34m.\u001b[0m\u001b[0mshow\u001b[0m\u001b[0;34m(\u001b[0m\u001b[0;34m)\u001b[0m\u001b[0;34m;\u001b[0m\u001b[0;34m\u001b[0m\u001b[0;34m\u001b[0m\u001b[0m\n\u001b[0m\u001b[1;32m     65\u001b[0m \u001b[0;34m\u001b[0m\u001b[0m\n\u001b[1;32m     66\u001b[0m \u001b[0;34m\u001b[0m\u001b[0m\n",
            "\u001b[0;32m/usr/local/lib/python3.6/dist-packages/matplotlib/pyplot.py\u001b[0m in \u001b[0;36mshow\u001b[0;34m(*args, **kw)\u001b[0m\n\u001b[1;32m    270\u001b[0m     \"\"\"\n\u001b[1;32m    271\u001b[0m     \u001b[0;32mglobal\u001b[0m \u001b[0m_show\u001b[0m\u001b[0;34m\u001b[0m\u001b[0;34m\u001b[0m\u001b[0m\n\u001b[0;32m--> 272\u001b[0;31m     \u001b[0;32mreturn\u001b[0m \u001b[0m_show\u001b[0m\u001b[0;34m(\u001b[0m\u001b[0;34m*\u001b[0m\u001b[0margs\u001b[0m\u001b[0;34m,\u001b[0m \u001b[0;34m**\u001b[0m\u001b[0mkw\u001b[0m\u001b[0;34m)\u001b[0m\u001b[0;34m\u001b[0m\u001b[0;34m\u001b[0m\u001b[0m\n\u001b[0m\u001b[1;32m    273\u001b[0m \u001b[0;34m\u001b[0m\u001b[0m\n\u001b[1;32m    274\u001b[0m \u001b[0;34m\u001b[0m\u001b[0m\n",
            "\u001b[0;32m/usr/local/lib/python3.6/dist-packages/ipykernel/pylab/backend_inline.py\u001b[0m in \u001b[0;36mshow\u001b[0;34m(close, block)\u001b[0m\n\u001b[1;32m     37\u001b[0m             display(\n\u001b[1;32m     38\u001b[0m                 \u001b[0mfigure_manager\u001b[0m\u001b[0;34m.\u001b[0m\u001b[0mcanvas\u001b[0m\u001b[0;34m.\u001b[0m\u001b[0mfigure\u001b[0m\u001b[0;34m,\u001b[0m\u001b[0;34m\u001b[0m\u001b[0;34m\u001b[0m\u001b[0m\n\u001b[0;32m---> 39\u001b[0;31m                 \u001b[0mmetadata\u001b[0m\u001b[0;34m=\u001b[0m\u001b[0m_fetch_figure_metadata\u001b[0m\u001b[0;34m(\u001b[0m\u001b[0mfigure_manager\u001b[0m\u001b[0;34m.\u001b[0m\u001b[0mcanvas\u001b[0m\u001b[0;34m.\u001b[0m\u001b[0mfigure\u001b[0m\u001b[0;34m)\u001b[0m\u001b[0;34m\u001b[0m\u001b[0;34m\u001b[0m\u001b[0m\n\u001b[0m\u001b[1;32m     40\u001b[0m             )\n\u001b[1;32m     41\u001b[0m     \u001b[0;32mfinally\u001b[0m\u001b[0;34m:\u001b[0m\u001b[0;34m\u001b[0m\u001b[0;34m\u001b[0m\u001b[0m\n",
            "\u001b[0;32m/usr/local/lib/python3.6/dist-packages/IPython/core/display.py\u001b[0m in \u001b[0;36mdisplay\u001b[0;34m(*objs, **kwargs)\u001b[0m\n\u001b[1;32m    304\u001b[0m             \u001b[0mpublish_display_data\u001b[0m\u001b[0;34m(\u001b[0m\u001b[0mdata\u001b[0m\u001b[0;34m=\u001b[0m\u001b[0mobj\u001b[0m\u001b[0;34m,\u001b[0m \u001b[0mmetadata\u001b[0m\u001b[0;34m=\u001b[0m\u001b[0mmetadata\u001b[0m\u001b[0;34m,\u001b[0m \u001b[0;34m**\u001b[0m\u001b[0mkwargs\u001b[0m\u001b[0;34m)\u001b[0m\u001b[0;34m\u001b[0m\u001b[0;34m\u001b[0m\u001b[0m\n\u001b[1;32m    305\u001b[0m         \u001b[0;32melse\u001b[0m\u001b[0;34m:\u001b[0m\u001b[0;34m\u001b[0m\u001b[0;34m\u001b[0m\u001b[0m\n\u001b[0;32m--> 306\u001b[0;31m             \u001b[0mformat_dict\u001b[0m\u001b[0;34m,\u001b[0m \u001b[0mmd_dict\u001b[0m \u001b[0;34m=\u001b[0m \u001b[0mformat\u001b[0m\u001b[0;34m(\u001b[0m\u001b[0mobj\u001b[0m\u001b[0;34m,\u001b[0m \u001b[0minclude\u001b[0m\u001b[0;34m=\u001b[0m\u001b[0minclude\u001b[0m\u001b[0;34m,\u001b[0m \u001b[0mexclude\u001b[0m\u001b[0;34m=\u001b[0m\u001b[0mexclude\u001b[0m\u001b[0;34m)\u001b[0m\u001b[0;34m\u001b[0m\u001b[0;34m\u001b[0m\u001b[0m\n\u001b[0m\u001b[1;32m    307\u001b[0m             \u001b[0;32mif\u001b[0m \u001b[0;32mnot\u001b[0m \u001b[0mformat_dict\u001b[0m\u001b[0;34m:\u001b[0m\u001b[0;34m\u001b[0m\u001b[0;34m\u001b[0m\u001b[0m\n\u001b[1;32m    308\u001b[0m                 \u001b[0;31m# nothing to display (e.g. _ipython_display_ took over)\u001b[0m\u001b[0;34m\u001b[0m\u001b[0;34m\u001b[0m\u001b[0;34m\u001b[0m\u001b[0m\n",
            "\u001b[0;32m/usr/local/lib/python3.6/dist-packages/IPython/core/formatters.py\u001b[0m in \u001b[0;36mformat\u001b[0;34m(self, obj, include, exclude)\u001b[0m\n\u001b[1;32m    171\u001b[0m             \u001b[0mmd\u001b[0m \u001b[0;34m=\u001b[0m \u001b[0;32mNone\u001b[0m\u001b[0;34m\u001b[0m\u001b[0;34m\u001b[0m\u001b[0m\n\u001b[1;32m    172\u001b[0m             \u001b[0;32mtry\u001b[0m\u001b[0;34m:\u001b[0m\u001b[0;34m\u001b[0m\u001b[0;34m\u001b[0m\u001b[0m\n\u001b[0;32m--> 173\u001b[0;31m                 \u001b[0mdata\u001b[0m \u001b[0;34m=\u001b[0m \u001b[0mformatter\u001b[0m\u001b[0;34m(\u001b[0m\u001b[0mobj\u001b[0m\u001b[0;34m)\u001b[0m\u001b[0;34m\u001b[0m\u001b[0;34m\u001b[0m\u001b[0m\n\u001b[0m\u001b[1;32m    174\u001b[0m             \u001b[0;32mexcept\u001b[0m\u001b[0;34m:\u001b[0m\u001b[0;34m\u001b[0m\u001b[0;34m\u001b[0m\u001b[0m\n\u001b[1;32m    175\u001b[0m                 \u001b[0;31m# FIXME: log the exception\u001b[0m\u001b[0;34m\u001b[0m\u001b[0;34m\u001b[0m\u001b[0;34m\u001b[0m\u001b[0m\n",
            "\u001b[0;32m<decorator-gen-9>\u001b[0m in \u001b[0;36m__call__\u001b[0;34m(self, obj)\u001b[0m\n",
            "\u001b[0;32m/usr/local/lib/python3.6/dist-packages/IPython/core/formatters.py\u001b[0m in \u001b[0;36mcatch_format_error\u001b[0;34m(method, self, *args, **kwargs)\u001b[0m\n\u001b[1;32m    215\u001b[0m     \u001b[0;34m\"\"\"show traceback on failed format call\"\"\"\u001b[0m\u001b[0;34m\u001b[0m\u001b[0;34m\u001b[0m\u001b[0m\n\u001b[1;32m    216\u001b[0m     \u001b[0;32mtry\u001b[0m\u001b[0;34m:\u001b[0m\u001b[0;34m\u001b[0m\u001b[0;34m\u001b[0m\u001b[0m\n\u001b[0;32m--> 217\u001b[0;31m         \u001b[0mr\u001b[0m \u001b[0;34m=\u001b[0m \u001b[0mmethod\u001b[0m\u001b[0;34m(\u001b[0m\u001b[0mself\u001b[0m\u001b[0;34m,\u001b[0m \u001b[0;34m*\u001b[0m\u001b[0margs\u001b[0m\u001b[0;34m,\u001b[0m \u001b[0;34m**\u001b[0m\u001b[0mkwargs\u001b[0m\u001b[0;34m)\u001b[0m\u001b[0;34m\u001b[0m\u001b[0;34m\u001b[0m\u001b[0m\n\u001b[0m\u001b[1;32m    218\u001b[0m     \u001b[0;32mexcept\u001b[0m \u001b[0mNotImplementedError\u001b[0m\u001b[0;34m:\u001b[0m\u001b[0;34m\u001b[0m\u001b[0;34m\u001b[0m\u001b[0m\n\u001b[1;32m    219\u001b[0m         \u001b[0;31m# don't warn on NotImplementedErrors\u001b[0m\u001b[0;34m\u001b[0m\u001b[0;34m\u001b[0m\u001b[0;34m\u001b[0m\u001b[0m\n",
            "\u001b[0;32m/usr/local/lib/python3.6/dist-packages/IPython/core/formatters.py\u001b[0m in \u001b[0;36m__call__\u001b[0;34m(self, obj)\u001b[0m\n\u001b[1;32m    332\u001b[0m                 \u001b[0;32mpass\u001b[0m\u001b[0;34m\u001b[0m\u001b[0;34m\u001b[0m\u001b[0m\n\u001b[1;32m    333\u001b[0m             \u001b[0;32melse\u001b[0m\u001b[0;34m:\u001b[0m\u001b[0;34m\u001b[0m\u001b[0;34m\u001b[0m\u001b[0m\n\u001b[0;32m--> 334\u001b[0;31m                 \u001b[0;32mreturn\u001b[0m \u001b[0mprinter\u001b[0m\u001b[0;34m(\u001b[0m\u001b[0mobj\u001b[0m\u001b[0;34m)\u001b[0m\u001b[0;34m\u001b[0m\u001b[0;34m\u001b[0m\u001b[0m\n\u001b[0m\u001b[1;32m    335\u001b[0m             \u001b[0;31m# Finally look for special method names\u001b[0m\u001b[0;34m\u001b[0m\u001b[0;34m\u001b[0m\u001b[0;34m\u001b[0m\u001b[0m\n\u001b[1;32m    336\u001b[0m             \u001b[0mmethod\u001b[0m \u001b[0;34m=\u001b[0m \u001b[0mget_real_method\u001b[0m\u001b[0;34m(\u001b[0m\u001b[0mobj\u001b[0m\u001b[0;34m,\u001b[0m \u001b[0mself\u001b[0m\u001b[0;34m.\u001b[0m\u001b[0mprint_method\u001b[0m\u001b[0;34m)\u001b[0m\u001b[0;34m\u001b[0m\u001b[0;34m\u001b[0m\u001b[0m\n",
            "\u001b[0;32m/usr/local/lib/python3.6/dist-packages/IPython/core/pylabtools.py\u001b[0m in \u001b[0;36m<lambda>\u001b[0;34m(fig)\u001b[0m\n\u001b[1;32m    239\u001b[0m \u001b[0;34m\u001b[0m\u001b[0m\n\u001b[1;32m    240\u001b[0m     \u001b[0;32mif\u001b[0m \u001b[0;34m'png'\u001b[0m \u001b[0;32min\u001b[0m \u001b[0mformats\u001b[0m\u001b[0;34m:\u001b[0m\u001b[0;34m\u001b[0m\u001b[0;34m\u001b[0m\u001b[0m\n\u001b[0;32m--> 241\u001b[0;31m         \u001b[0mpng_formatter\u001b[0m\u001b[0;34m.\u001b[0m\u001b[0mfor_type\u001b[0m\u001b[0;34m(\u001b[0m\u001b[0mFigure\u001b[0m\u001b[0;34m,\u001b[0m \u001b[0;32mlambda\u001b[0m \u001b[0mfig\u001b[0m\u001b[0;34m:\u001b[0m \u001b[0mprint_figure\u001b[0m\u001b[0;34m(\u001b[0m\u001b[0mfig\u001b[0m\u001b[0;34m,\u001b[0m \u001b[0;34m'png'\u001b[0m\u001b[0;34m,\u001b[0m \u001b[0;34m**\u001b[0m\u001b[0mkwargs\u001b[0m\u001b[0;34m)\u001b[0m\u001b[0;34m)\u001b[0m\u001b[0;34m\u001b[0m\u001b[0;34m\u001b[0m\u001b[0m\n\u001b[0m\u001b[1;32m    242\u001b[0m     \u001b[0;32mif\u001b[0m \u001b[0;34m'retina'\u001b[0m \u001b[0;32min\u001b[0m \u001b[0mformats\u001b[0m \u001b[0;32mor\u001b[0m \u001b[0;34m'png2x'\u001b[0m \u001b[0;32min\u001b[0m \u001b[0mformats\u001b[0m\u001b[0;34m:\u001b[0m\u001b[0;34m\u001b[0m\u001b[0;34m\u001b[0m\u001b[0m\n\u001b[1;32m    243\u001b[0m         \u001b[0mpng_formatter\u001b[0m\u001b[0;34m.\u001b[0m\u001b[0mfor_type\u001b[0m\u001b[0;34m(\u001b[0m\u001b[0mFigure\u001b[0m\u001b[0;34m,\u001b[0m \u001b[0;32mlambda\u001b[0m \u001b[0mfig\u001b[0m\u001b[0;34m:\u001b[0m \u001b[0mretina_figure\u001b[0m\u001b[0;34m(\u001b[0m\u001b[0mfig\u001b[0m\u001b[0;34m,\u001b[0m \u001b[0;34m**\u001b[0m\u001b[0mkwargs\u001b[0m\u001b[0;34m)\u001b[0m\u001b[0;34m)\u001b[0m\u001b[0;34m\u001b[0m\u001b[0;34m\u001b[0m\u001b[0m\n",
            "\u001b[0;32m/usr/local/lib/python3.6/dist-packages/IPython/core/pylabtools.py\u001b[0m in \u001b[0;36mprint_figure\u001b[0;34m(fig, fmt, bbox_inches, **kwargs)\u001b[0m\n\u001b[1;32m    123\u001b[0m \u001b[0;34m\u001b[0m\u001b[0m\n\u001b[1;32m    124\u001b[0m     \u001b[0mbytes_io\u001b[0m \u001b[0;34m=\u001b[0m \u001b[0mBytesIO\u001b[0m\u001b[0;34m(\u001b[0m\u001b[0;34m)\u001b[0m\u001b[0;34m\u001b[0m\u001b[0;34m\u001b[0m\u001b[0m\n\u001b[0;32m--> 125\u001b[0;31m     \u001b[0mfig\u001b[0m\u001b[0;34m.\u001b[0m\u001b[0mcanvas\u001b[0m\u001b[0;34m.\u001b[0m\u001b[0mprint_figure\u001b[0m\u001b[0;34m(\u001b[0m\u001b[0mbytes_io\u001b[0m\u001b[0;34m,\u001b[0m \u001b[0;34m**\u001b[0m\u001b[0mkw\u001b[0m\u001b[0;34m)\u001b[0m\u001b[0;34m\u001b[0m\u001b[0;34m\u001b[0m\u001b[0m\n\u001b[0m\u001b[1;32m    126\u001b[0m     \u001b[0mdata\u001b[0m \u001b[0;34m=\u001b[0m \u001b[0mbytes_io\u001b[0m\u001b[0;34m.\u001b[0m\u001b[0mgetvalue\u001b[0m\u001b[0;34m(\u001b[0m\u001b[0;34m)\u001b[0m\u001b[0;34m\u001b[0m\u001b[0;34m\u001b[0m\u001b[0m\n\u001b[1;32m    127\u001b[0m     \u001b[0;32mif\u001b[0m \u001b[0mfmt\u001b[0m \u001b[0;34m==\u001b[0m \u001b[0;34m'svg'\u001b[0m\u001b[0;34m:\u001b[0m\u001b[0;34m\u001b[0m\u001b[0;34m\u001b[0m\u001b[0m\n",
            "\u001b[0;32m/usr/local/lib/python3.6/dist-packages/matplotlib/backend_bases.py\u001b[0m in \u001b[0;36mprint_figure\u001b[0;34m(self, filename, dpi, facecolor, edgecolor, orientation, format, bbox_inches, **kwargs)\u001b[0m\n\u001b[1;32m   2124\u001b[0m                     \u001b[0morientation\u001b[0m\u001b[0;34m=\u001b[0m\u001b[0morientation\u001b[0m\u001b[0;34m,\u001b[0m\u001b[0;34m\u001b[0m\u001b[0;34m\u001b[0m\u001b[0m\n\u001b[1;32m   2125\u001b[0m                     \u001b[0mbbox_inches_restore\u001b[0m\u001b[0;34m=\u001b[0m\u001b[0m_bbox_inches_restore\u001b[0m\u001b[0;34m,\u001b[0m\u001b[0;34m\u001b[0m\u001b[0;34m\u001b[0m\u001b[0m\n\u001b[0;32m-> 2126\u001b[0;31m                     **kwargs)\n\u001b[0m\u001b[1;32m   2127\u001b[0m             \u001b[0;32mfinally\u001b[0m\u001b[0;34m:\u001b[0m\u001b[0;34m\u001b[0m\u001b[0;34m\u001b[0m\u001b[0m\n\u001b[1;32m   2128\u001b[0m                 \u001b[0;32mif\u001b[0m \u001b[0mbbox_inches\u001b[0m \u001b[0;32mand\u001b[0m \u001b[0mrestore_bbox\u001b[0m\u001b[0;34m:\u001b[0m\u001b[0;34m\u001b[0m\u001b[0;34m\u001b[0m\u001b[0m\n",
            "\u001b[0;32m/usr/local/lib/python3.6/dist-packages/matplotlib/backends/backend_agg.py\u001b[0m in \u001b[0;36mprint_png\u001b[0;34m(self, filename_or_obj, metadata, pil_kwargs, *args, **kwargs)\u001b[0m\n\u001b[1;32m    535\u001b[0m             \u001b[0;32mwith\u001b[0m \u001b[0mcbook\u001b[0m\u001b[0;34m.\u001b[0m\u001b[0mopen_file_cm\u001b[0m\u001b[0;34m(\u001b[0m\u001b[0mfilename_or_obj\u001b[0m\u001b[0;34m,\u001b[0m \u001b[0;34m\"wb\"\u001b[0m\u001b[0;34m)\u001b[0m \u001b[0;32mas\u001b[0m \u001b[0mfh\u001b[0m\u001b[0;34m:\u001b[0m\u001b[0;34m\u001b[0m\u001b[0;34m\u001b[0m\u001b[0m\n\u001b[1;32m    536\u001b[0m                 _png.write_png(renderer._renderer, fh, self.figure.dpi,\n\u001b[0;32m--> 537\u001b[0;31m                                metadata={**default_metadata, **metadata})\n\u001b[0m\u001b[1;32m    538\u001b[0m \u001b[0;34m\u001b[0m\u001b[0m\n\u001b[1;32m    539\u001b[0m     \u001b[0;32mdef\u001b[0m \u001b[0mprint_to_buffer\u001b[0m\u001b[0;34m(\u001b[0m\u001b[0mself\u001b[0m\u001b[0;34m)\u001b[0m\u001b[0;34m:\u001b[0m\u001b[0;34m\u001b[0m\u001b[0;34m\u001b[0m\u001b[0m\n",
            "\u001b[0;31mKeyboardInterrupt\u001b[0m: "
          ]
        }
      ]
    },
    {
      "cell_type": "code",
      "metadata": {
        "colab": {
          "base_uri": "https://localhost:8080/",
          "height": 455
        },
        "id": "95l-lJr3AvU1",
        "outputId": "cbe522c6-6f54-45b9-d061-c41669517c67"
      },
      "source": [
        "pd.read_csv(log_file, index_col='epoch')"
      ],
      "execution_count": 23,
      "outputs": [
        {
          "output_type": "execute_result",
          "data": {
            "text/html": [
              "<div>\n",
              "<style scoped>\n",
              "    .dataframe tbody tr th:only-of-type {\n",
              "        vertical-align: middle;\n",
              "    }\n",
              "\n",
              "    .dataframe tbody tr th {\n",
              "        vertical-align: top;\n",
              "    }\n",
              "\n",
              "    .dataframe thead th {\n",
              "        text-align: right;\n",
              "    }\n",
              "</style>\n",
              "<table border=\"1\" class=\"dataframe\">\n",
              "  <thead>\n",
              "    <tr style=\"text-align: right;\">\n",
              "      <th></th>\n",
              "      <th>loss</th>\n",
              "      <th>mean_absolute_percentage_error</th>\n",
              "      <th>r_squared</th>\n",
              "      <th>val_loss</th>\n",
              "      <th>val_mean_absolute_percentage_error</th>\n",
              "      <th>val_r_squared</th>\n",
              "    </tr>\n",
              "    <tr>\n",
              "      <th>epoch</th>\n",
              "      <th></th>\n",
              "      <th></th>\n",
              "      <th></th>\n",
              "      <th></th>\n",
              "      <th></th>\n",
              "      <th></th>\n",
              "    </tr>\n",
              "  </thead>\n",
              "  <tbody>\n",
              "    <tr>\n",
              "      <th>0</th>\n",
              "      <td>1.234830</td>\n",
              "      <td>12.640810</td>\n",
              "      <td>0.073356</td>\n",
              "      <td>0.660999</td>\n",
              "      <td>10.316449</td>\n",
              "      <td>0.453873</td>\n",
              "    </tr>\n",
              "    <tr>\n",
              "      <th>1</th>\n",
              "      <td>1.225958</td>\n",
              "      <td>12.697615</td>\n",
              "      <td>0.086160</td>\n",
              "      <td>0.652341</td>\n",
              "      <td>10.248595</td>\n",
              "      <td>0.461790</td>\n",
              "    </tr>\n",
              "    <tr>\n",
              "      <th>2</th>\n",
              "      <td>1.258809</td>\n",
              "      <td>12.685419</td>\n",
              "      <td>0.057279</td>\n",
              "      <td>0.656228</td>\n",
              "      <td>10.268634</td>\n",
              "      <td>0.457434</td>\n",
              "    </tr>\n",
              "    <tr>\n",
              "      <th>3</th>\n",
              "      <td>1.274408</td>\n",
              "      <td>12.843443</td>\n",
              "      <td>0.038054</td>\n",
              "      <td>0.577962</td>\n",
              "      <td>9.510303</td>\n",
              "      <td>0.523209</td>\n",
              "    </tr>\n",
              "    <tr>\n",
              "      <th>4</th>\n",
              "      <td>1.184873</td>\n",
              "      <td>12.414401</td>\n",
              "      <td>0.120265</td>\n",
              "      <td>0.566097</td>\n",
              "      <td>9.396764</td>\n",
              "      <td>0.533214</td>\n",
              "    </tr>\n",
              "    <tr>\n",
              "      <th>...</th>\n",
              "      <td>...</td>\n",
              "      <td>...</td>\n",
              "      <td>...</td>\n",
              "      <td>...</td>\n",
              "      <td>...</td>\n",
              "      <td>...</td>\n",
              "    </tr>\n",
              "    <tr>\n",
              "      <th>195</th>\n",
              "      <td>0.833462</td>\n",
              "      <td>10.469005</td>\n",
              "      <td>0.368025</td>\n",
              "      <td>0.147794</td>\n",
              "      <td>4.313632</td>\n",
              "      <td>0.880551</td>\n",
              "    </tr>\n",
              "    <tr>\n",
              "      <th>196</th>\n",
              "      <td>0.874951</td>\n",
              "      <td>10.577330</td>\n",
              "      <td>0.352200</td>\n",
              "      <td>0.178348</td>\n",
              "      <td>4.780458</td>\n",
              "      <td>0.854066</td>\n",
              "    </tr>\n",
              "    <tr>\n",
              "      <th>197</th>\n",
              "      <td>0.882513</td>\n",
              "      <td>10.678999</td>\n",
              "      <td>0.336721</td>\n",
              "      <td>0.158573</td>\n",
              "      <td>4.437297</td>\n",
              "      <td>0.870639</td>\n",
              "    </tr>\n",
              "    <tr>\n",
              "      <th>198</th>\n",
              "      <td>0.845803</td>\n",
              "      <td>10.463865</td>\n",
              "      <td>0.373841</td>\n",
              "      <td>0.146280</td>\n",
              "      <td>4.258148</td>\n",
              "      <td>0.881764</td>\n",
              "    </tr>\n",
              "    <tr>\n",
              "      <th>199</th>\n",
              "      <td>0.874817</td>\n",
              "      <td>10.607156</td>\n",
              "      <td>0.345057</td>\n",
              "      <td>0.127522</td>\n",
              "      <td>3.941542</td>\n",
              "      <td>0.897965</td>\n",
              "    </tr>\n",
              "  </tbody>\n",
              "</table>\n",
              "<p>200 rows × 6 columns</p>\n",
              "</div>"
            ],
            "text/plain": [
              "           loss  ...  val_r_squared\n",
              "epoch            ...               \n",
              "0      1.234830  ...       0.453873\n",
              "1      1.225958  ...       0.461790\n",
              "2      1.258809  ...       0.457434\n",
              "3      1.274408  ...       0.523209\n",
              "4      1.184873  ...       0.533214\n",
              "...         ...  ...            ...\n",
              "195    0.833462  ...       0.880551\n",
              "196    0.874951  ...       0.854066\n",
              "197    0.882513  ...       0.870639\n",
              "198    0.845803  ...       0.881764\n",
              "199    0.874817  ...       0.897965\n",
              "\n",
              "[200 rows x 6 columns]"
            ]
          },
          "metadata": {
            "tags": []
          },
          "execution_count": 23
        }
      ]
    },
    {
      "cell_type": "code",
      "metadata": {
        "id": "_Fmp93Sl8xeo"
      },
      "source": [
        "#Using a dataset with 1 ch constantly on for the test set\n",
        "#retreiving both datasets from GitHub\n",
        "\n",
        "\n",
        "\n",
        "git_xval = ('https://raw.githubusercontent.com/p-owens/MAI/main/data%20gen/ch{0}/x_val.csv'.format(40))\n",
        "git_yval = ('https://raw.githubusercontent.com/p-owens/MAI/main/data%20gen/ch{0}/y_val.csv'.format(40)) #need to replace number with ch varble\n",
        "dfx = pd.read_csv(git_xval,\n",
        "                  index_col=False,\n",
        "                  header=None,\n",
        "                  names=ch_names                                   \n",
        "                 )\n",
        "dfy = pd.read_csv(git_yval,\n",
        "                  index_col=False,\n",
        "                  header=None,\n",
        "                  names=ch_names\n",
        "                 )\n",
        "\n",
        "#dropping the frequences row for each training sample\n",
        "dfx = dfx.iloc[1::2]\n",
        "\n",
        "#drop all rows where df_x has a value != 0\n",
        "dfx = dfx[dfx[ch_names[ch]] !=0]\n",
        "dfy = dfy[dfy[ch_names[ch]] !=0]\n",
        "dfy = dfy[ch_names[ch]]\n",
        "\n",
        "x_test = dfx.to_numpy()\n",
        "y_test = dfy.to_numpy()"
      ],
      "execution_count": 8,
      "outputs": []
    },
    {
      "cell_type": "code",
      "metadata": {
        "id": "Es2EnxpM4Ltx",
        "colab": {
          "base_uri": "https://localhost:8080/"
        },
        "outputId": "bb4794c7-e016-416f-9ea6-2b9c547cb0c0"
      },
      "source": [
        "print(pd.DataFrame(x_test))\n",
        "print(pd.DataFrame(y_test))"
      ],
      "execution_count": 25,
      "outputs": [
        {
          "output_type": "stream",
          "text": [
            "      0    1    2    3    4    5    6   ...   37   38   39   40   41   42   43\n",
            "0    1.0  0.0  1.0  0.0  0.0  1.0  0.0  ...  1.0  1.0  1.0  0.0  1.0  0.0  0.0\n",
            "1    0.0  0.0  0.0  0.0  0.0  0.0  0.0  ...  1.0  1.0  1.0  1.0  0.0  0.0  0.0\n",
            "2    1.0  0.0  1.0  0.0  1.0  0.0  1.0  ...  0.0  0.0  1.0  0.0  0.0  0.0  0.0\n",
            "3    0.0  1.0  1.0  0.0  0.0  0.0  0.0  ...  1.0  0.0  1.0  0.0  0.0  0.0  0.0\n",
            "4    0.0  0.0  0.0  0.0  0.0  0.0  0.0  ...  0.0  0.0  1.0  0.0  0.0  1.0  0.0\n",
            "..   ...  ...  ...  ...  ...  ...  ...  ...  ...  ...  ...  ...  ...  ...  ...\n",
            "241  1.0  1.0  1.0  1.0  1.0  1.0  1.0  ...  1.0  1.0  1.0  1.0  1.0  1.0  0.0\n",
            "242  1.0  1.0  1.0  1.0  1.0  1.0  1.0  ...  0.0  1.0  1.0  0.0  1.0  1.0  0.0\n",
            "243  1.0  1.0  1.0  1.0  1.0  1.0  1.0  ...  1.0  1.0  1.0  0.0  1.0  0.0  0.0\n",
            "244  0.0  0.0  1.0  0.0  0.0  1.0  0.0  ...  0.0  0.0  1.0  0.0  0.0  0.0  0.0\n",
            "245  1.0  0.0  0.0  1.0  1.0  1.0  1.0  ...  1.0  1.0  1.0  1.0  0.0  0.0  0.0\n",
            "\n",
            "[246 rows x 44 columns]\n",
            "             0\n",
            "0     7.990795\n",
            "1     7.057648\n",
            "2    11.561921\n",
            "3     9.055241\n",
            "4     4.818036\n",
            "..         ...\n",
            "241   7.758004\n",
            "242   7.826543\n",
            "243   9.554765\n",
            "244   8.628792\n",
            "245   8.992905\n",
            "\n",
            "[246 rows x 1 columns]\n"
          ],
          "name": "stdout"
        }
      ]
    },
    {
      "cell_type": "code",
      "metadata": {
        "id": "U4DVvl12CiJ7"
      },
      "source": [
        ""
      ],
      "execution_count": null,
      "outputs": []
    },
    {
      "cell_type": "code",
      "metadata": {
        "id": "WI4mhp4Xc34m",
        "colab": {
          "base_uri": "https://localhost:8080/"
        },
        "outputId": "4ebf90e2-3042-4bc4-e675-468dcf7d6423"
      },
      "source": [
        "#loading a previously trained model\n",
        "\n",
        "model = tf.keras.models.load_model('ch_39_ep_27_mse_1.62_pct_err_15.54.h5',\n",
        "                                   custom_objects={'r_squared': r_squared},\n",
        "                                   compile=True)\n",
        "model.summary()"
      ],
      "execution_count": 19,
      "outputs": [
        {
          "output_type": "stream",
          "text": [
            "Model: \"model_1\"\n",
            "_________________________________________________________________\n",
            "Layer (type)                 Output Shape              Param #   \n",
            "=================================================================\n",
            "input_2 (InputLayer)         [(None, 44)]              0         \n",
            "_________________________________________________________________\n",
            "dense_6 (Dense)              (None, 360)               16200     \n",
            "_________________________________________________________________\n",
            "dropout_5 (Dropout)          (None, 360)               0         \n",
            "_________________________________________________________________\n",
            "dense_7 (Dense)              (None, 180)               64980     \n",
            "_________________________________________________________________\n",
            "dropout_6 (Dropout)          (None, 180)               0         \n",
            "_________________________________________________________________\n",
            "dense_8 (Dense)              (None, 180)               32580     \n",
            "_________________________________________________________________\n",
            "dropout_7 (Dropout)          (None, 180)               0         \n",
            "_________________________________________________________________\n",
            "dense_9 (Dense)              (None, 90)                16290     \n",
            "_________________________________________________________________\n",
            "dropout_8 (Dropout)          (None, 90)                0         \n",
            "_________________________________________________________________\n",
            "dense_10 (Dense)             (None, 45)                4095      \n",
            "_________________________________________________________________\n",
            "dropout_9 (Dropout)          (None, 45)                0         \n",
            "_________________________________________________________________\n",
            "dense_11 (Dense)             (None, 1)                 46        \n",
            "=================================================================\n",
            "Total params: 134,191\n",
            "Trainable params: 134,191\n",
            "Non-trainable params: 0\n",
            "_________________________________________________________________\n"
          ],
          "name": "stdout"
        }
      ]
    },
    {
      "cell_type": "code",
      "metadata": {
        "colab": {
          "base_uri": "https://localhost:8080/"
        },
        "id": "5JUeQ1eGj1ej",
        "outputId": "6ebdab3e-15ab-44d9-dab5-a31943276a45"
      },
      "source": [
        "#evaluate the model on the test set\n",
        "results = model.evaluate(x_test,y_test, verbose=1)\n",
        "print(\"{name1}\\t\\t: {mse:<.4f}\\t(lower is better)\\n{name2}\\t: {percent_err:<.3%}\\t(higher is better)\".format(name1 = model.metrics_names[0],\n",
        "                                                                                                    name2 = model.metrics_names[2],\n",
        "                                                                                                    mse = results[0],\n",
        "                                                                                                    percent_err = results[2]/100))"
      ],
      "execution_count": 24,
      "outputs": [
        {
          "output_type": "stream",
          "text": [
            "16/16 [==============================] - 0s 1ms/step - loss: 12.6108 - r_squared: -5.3584 - mean_absolute_percentage_error: 37.9308\n",
            "loss\t\t: 12.6108\t(lower is better)\n",
            "mean_absolute_percentage_error\t: 37.931%\t(higher is better)\n"
          ],
          "name": "stdout"
        }
      ]
    }
  ]
}